{
  "nbformat": 4,
  "nbformat_minor": 0,
  "metadata": {
    "colab": {
      "provenance": []
    },
    "kernelspec": {
      "name": "python3",
      "display_name": "Python 3"
    },
    "language_info": {
      "name": "python"
    }
  },
  "cells": [
    {
      "cell_type": "code",
      "execution_count": null,
      "metadata": {
        "id": "im9MPtWwGRcU"
      },
      "outputs": [],
      "source": [
        "from fastai.learner import load_learner\n",
        "from sklearn.metrics import accuracy_score, confusion_matrix, classification_report\n",
        "import matplotlib.pyplot as plt\n",
        "import seaborn as sns\n",
        "import os\n",
        "from PIL import Image\n",
        "\n",
        "learn = load_learner('/content/drive/MyDrive/chord_model.pkl')\n",
        "\n",
        "test_path = \"/content/dataset_split/test\"\n",
        "\n",
        "y_true, y_pred = [], []\n",
        "\n",
        "for label in os.listdir(test_path):\n",
        "    label_path = os.path.join(test_path, label)\n",
        "    for fname in os.listdir(label_path):\n",
        "        if fname.endswith(\".png\"):\n",
        "            img_path = os.path.join(label_path, fname)\n",
        "            pred_class, _, _ = learn.predict(img_path)\n",
        "            y_true.append(label)\n",
        "            y_pred.append(str(pred_class))\n",
        "\n",
        "acc = accuracy_score(y_true, y_pred)\n",
        "print(f\"\\n Test Accuracy: {acc * 100:.2f}%\")\n",
        "\n",
        "print(\"\\n Classification Report:\\n\")\n",
        "print(classification_report(y_true, y_pred))\n",
        "\n",
        "labels = sorted(list(set(y_true)))\n",
        "cm = confusion_matrix(y_true, y_pred, labels=labels)\n",
        "\n",
        "plt.figure(figsize=(10, 8))\n",
        "sns.heatmap(cm, annot=True, fmt='d', xticklabels=labels, yticklabels=labels, cmap=\"Blues\")\n",
        "plt.xlabel(\"Predicted Label\")\n",
        "plt.ylabel(\"True Label\")\n",
        "plt.title(\"Confusion Matrix of Chord Detection\")\n",
        "plt.show()"
      ]
    }
  ]
}