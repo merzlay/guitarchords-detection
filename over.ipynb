{
  "nbformat": 4,
  "nbformat_minor": 0,
  "metadata": {
    "colab": {
      "provenance": []
    },
    "kernelspec": {
      "name": "python3",
      "display_name": "Python 3"
    },
    "language_info": {
      "name": "python"
    }
  },
  "cells": [
    {
      "cell_type": "code",
      "execution_count": null,
      "metadata": {
        "id": "l1mgeIGaxtBn"
      },
      "outputs": [],
      "source": [
        "import os\n",
        "import random\n",
        "from pathlib import Path\n",
        "from PIL import Image, ImageEnhance, ImageOps\n",
        "\n",
        "base_path = Path(\"/content/spectrogram\")\n",
        "\n",
        "def augment_image(img):\n",
        "    if random.random() > 0.5:\n",
        "        img = ImageOps.mirror(img)\n",
        "    if random.random() > 0.5:\n",
        "        img = ImageOps.flip(img)\n",
        "    if random.random() > 0.5:\n",
        "        img = img.rotate(random.uniform(-15, 15))\n",
        "    if random.random() > 0.5:\n",
        "        enhancer = ImageEnhance.Brightness(img)\n",
        "        img = enhancer.enhance(random.uniform(0.7, 1.3))\n",
        "    return img\n",
        "\n",
        "class_counts = {p.name: len(list(p.glob(\"*.png\"))) for p in base_path.iterdir() if p.is_dir()}\n",
        "max_count = max(class_counts.values())\n",
        "print(f\"Target images per class: {max_count}\")\n",
        "\n",
        "for class_name, count in class_counts.items():\n",
        "    class_path = base_path / class_name\n",
        "    image_paths = list(class_path.glob(\"*.png\"))\n",
        "\n",
        "    if count < max_count:\n",
        "        needed = max_count - count\n",
        "        print(f\"Oversampling class '{class_name}': adding {needed} augmented images...\")\n",
        "\n",
        "        for i in range(needed):\n",
        "            src_path = random.choice(image_paths)\n",
        "            img = Image.open(src_path)\n",
        "            aug_img = augment_image(img)\n",
        "            dst_path = class_path / f\"aug_{i}_{src_path.name}\"\n",
        "            aug_img.save(dst_path)\n",
        "\n",
        "print(\"Oversampling + Data Augmentation\")"
      ]
    }
  ]
}