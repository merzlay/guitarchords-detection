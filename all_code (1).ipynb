{
  "nbformat": 4,
  "nbformat_minor": 0,
  "metadata": {
    "colab": {
      "provenance": []
    },
    "kernelspec": {
      "name": "python3",
      "display_name": "Python 3"
    },
    "language_info": {
      "name": "python"
    }
  },
  "cells": [
    {
      "cell_type": "markdown",
      "source": [
        "# **dataset annotation**"
      ],
      "metadata": {
        "id": "gS9hXOUSEspZ"
      }
    },
    {
      "cell_type": "code",
      "source": [
        "!pip install jams\n",
        "!pip install numpy==1.23.5\n",
        "!pip install --upgrade jams"
      ],
      "metadata": {
        "id": "AzFXHp9tE3Gj"
      },
      "execution_count": null,
      "outputs": []
    },
    {
      "cell_type": "markdown",
      "source": [
        "annotation_firstdraft.csv"
      ],
      "metadata": {
        "id": "17ukUemWE6qk"
      }
    },
    {
      "cell_type": "code",
      "source": [
        "import os\n",
        "import jams\n",
        "import pandas as pd"
      ],
      "metadata": {
        "id": "wqgdqvEoE32q"
      },
      "execution_count": null,
      "outputs": []
    },
    {
      "cell_type": "code",
      "source": [
        "def midi_to_fret(midi_note):\n",
        "    tuning = [64, 59, 55, 50, 45, 40]\n",
        "    for string in range(6):\n",
        "        fret = midi_note - tuning[string]\n",
        "        if 0 <= fret <= 24:\n",
        "            return (string + 1, fret)\n",
        "    return (None, None)\n",
        "\n",
        "output_dir = 'annotationcsv'\n",
        "os.makedirs(output_dir, exist_ok=True)"
      ],
      "metadata": {
        "id": "b7CqdhzaFCq9"
      },
      "execution_count": null,
      "outputs": []
    },
    {
      "cell_type": "code",
      "source": [
        "input_folder = '/content/annotation(jams)'\n",
        "\n",
        "for filename in os.listdir(input_folder):\n",
        "    if filename.endswith('.jams'):\n",
        "        jam_path = os.path.join(input_folder, filename)\n",
        "        jam = jams.load(jam_path)\n",
        "        notes = jam.search(namespace='note_midi')\n",
        "\n",
        "        data = []\n",
        "        for annotation in notes:\n",
        "            for note in annotation.data:\n",
        "                if isinstance(note.value, dict):\n",
        "                    string = note.value.get('string')\n",
        "                    fret = note.value.get('fret')\n",
        "                    midi_pitch = None\n",
        "                else:\n",
        "                    midi_pitch = note.value\n",
        "                    string, fret = midi_to_fret(midi_pitch)\n",
        "                if string is not None and fret is not None:\n",
        "                    entry = {\n",
        "                        'start_time': note.time,\n",
        "                        'end_time': note.time + note.duration,\n",
        "                        'string': string,\n",
        "                        'fret': fret,\n",
        "                        'duration': note.duration,\n",
        "                        'midi_pitch': midi_pitch\n",
        "                    }\n",
        "                    data.append(entry)\n",
        "        if data:\n",
        "            df = pd.DataFrame(data)\n",
        "            csv_filename = os.path.splitext(filename)[0] + '.csv'\n",
        "            csv_path = os.path.join(output_dir, csv_filename)\n",
        "            df.to_csv(csv_path, index=False)\n",
        "            print(f\"Saved: {csv_path}\")\n",
        "        else:\n",
        "            print(f\"No note data in: {filename}\")"
      ],
      "metadata": {
        "id": "medVnqa0FQLe"
      },
      "execution_count": null,
      "outputs": []
    },
    {
      "cell_type": "code",
      "source": [
        "import shutil\n",
        "from google.colab import files\n",
        "\n",
        "shutil.make_archive(\"annotationcsv\", 'zip', \"annotationcsv\")"
      ],
      "metadata": {
        "id": "KzJf940wFcYh"
      },
      "execution_count": null,
      "outputs": []
    },
    {
      "cell_type": "markdown",
      "source": [
        "check labels"
      ],
      "metadata": {
        "id": "xivLRuW-Fg-M"
      }
    },
    {
      "cell_type": "code",
      "source": [
        "import zipfile\n",
        "import pandas as pd\n",
        "import os\n",
        "from google.colab import files\n",
        "\n",
        "uploaded = '/content/annotationcsv.zip'\n",
        "extract_dir = \"/content/annotationextracted\"\n",
        "with zipfile.ZipFile(uploaded, 'r') as zip_ref:\n",
        "    zip_ref.extractall(extract_dir)"
      ],
      "metadata": {
        "id": "tV8fCvurFjQZ"
      },
      "execution_count": null,
      "outputs": []
    },
    {
      "cell_type": "code",
      "source": [
        "import glob\n",
        "\n",
        "expected_columns = {'start_time', 'end_time', 'string', 'fret', 'duration', 'midi_pitch'}\n",
        "csv_files = glob.glob(os.path.join(extract_dir, \"**\", \"*.csv\"), recursive=True)\n",
        "\n",
        "correct_count = 0\n",
        "incorrect_count = 0\n",
        "\n",
        "print(\"checking :\\n\")\n",
        "\n",
        "for csv_file in csv_files:\n",
        "    try:\n",
        "        df = pd.read_csv(csv_file)\n",
        "        cols = set(df.columns)\n",
        "\n",
        "        if cols == expected_columns:\n",
        "            print(f\"{os.path.basename(csv_file)}: True\")\n",
        "            correct_count += 1\n",
        "        else:\n",
        "            missing = expected_columns - cols\n",
        "            extra = cols - expected_columns\n",
        "            print(f\"{os.path.basename(csv_file)}:\")\n",
        "            if missing:\n",
        "                print(f\"   - missing_column: {missing}\")\n",
        "            if extra:\n",
        "                print(f\"   - extra_column: {extra}\")\n",
        "            incorrect_count += 1\n",
        "    except Exception as e:\n",
        "        print(f\"{os.path.basename(csv_file)}: errornotfound ({e})\")\n",
        "        incorrect_count += 1\n",
        "\n",
        "total_files = correct_count + incorrect_count\n",
        "print(f\" - correct: {correct_count}\")\n",
        "print(f\" - missing: {incorrect_count}\")\n",
        "print(f\" - total: {total_files}\")"
      ],
      "metadata": {
        "id": "1AiQQ1AuFlQN"
      },
      "execution_count": null,
      "outputs": []
    },
    {
      "cell_type": "markdown",
      "source": [
        "map chords"
      ],
      "metadata": {
        "id": "QVWrW7ENF4Fc"
      }
    },
    {
      "cell_type": "code",
      "source": [
        "import pandas as pd\n",
        "import music21\n",
        "from music21 import pitch\n",
        "from tqdm import tqdm\n",
        "import zipfile, os, glob\n",
        "from google.colab import files"
      ],
      "metadata": {
        "id": "33SbSYZYF2_N"
      },
      "execution_count": null,
      "outputs": []
    },
    {
      "cell_type": "code",
      "source": [
        "zip_path = '/content/annotationcsv.zip'\n",
        "extract_dir = \"/content/annotationextracted\"\n",
        "os.makedirs(extract_dir, exist_ok=True)\n",
        "\n",
        "with zipfile.ZipFile(zip_path, 'r') as zip_ref:\n",
        "    zip_ref.extractall(extract_dir)"
      ],
      "metadata": {
        "id": "kZXSRRFaF7JA"
      },
      "execution_count": null,
      "outputs": []
    },
    {
      "cell_type": "code",
      "source": [
        "base_midi = {\n",
        "    6: 40, 5: 45, 4: 50, 3: 55, 2: 59, 1: 64\n",
        "}"
      ],
      "metadata": {
        "id": "GdOA14TIGHfI"
      },
      "execution_count": null,
      "outputs": []
    },
    {
      "cell_type": "code",
      "source": [
        "bin_size = 2.0\n",
        "csv_files = glob.glob(os.path.join(extract_dir, \"**\", \"*.csv\"), recursive=True)"
      ],
      "metadata": {
        "id": "TT52nBGfGJBA"
      },
      "execution_count": null,
      "outputs": []
    },
    {
      "cell_type": "code",
      "source": [
        "output_dir = \"/content/chordoutput\"\n",
        "os.makedirs(output_dir, exist_ok=True)"
      ],
      "metadata": {
        "id": "P-nMbcvRGJjY"
      },
      "execution_count": null,
      "outputs": []
    },
    {
      "cell_type": "code",
      "source": [
        "def predict_chords_from_csv(csv_path):\n",
        "    try:\n",
        "        df = pd.read_csv(csv_path)\n",
        "        df = df.dropna(subset=['start_time', 'end_time', 'string', 'fret'])\n",
        "        df['start_time'] = df['start_time'].astype(float)\n",
        "        df['end_time'] = df['end_time'].astype(float)\n",
        "        df['string'] = df['string'].astype(int)\n",
        "        df['fret'] = df['fret'].astype(int)\n",
        "        df['time_bin'] = df['start_time'].apply(lambda t: int(t // bin_size))\n",
        "\n",
        "        chord_segments = []\n",
        "\n",
        "        for time_bin, group in df.groupby('time_bin'):\n",
        "            midi_pitches = []\n",
        "            for _, row in group.iterrows():\n",
        "                string = row['string']\n",
        "                fret = row['fret']\n",
        "                if string in base_midi:\n",
        "                    midi = base_midi[string] + fret\n",
        "                    midi_pitches.append(midi)\n",
        "\n",
        "            try:\n",
        "                note_names = [pitch.Pitch(m).getEnharmonic().name for m in midi_pitches]\n",
        "                note_names = sorted(set(note_names))\n",
        "            except:\n",
        "                note_names = []\n",
        "\n",
        "            if len(note_names) < 3 or len(note_names) > 6:\n",
        "                chord_name = \"Unknown\"\n",
        "            else:\n",
        "                try:\n",
        "                    chord_obj = music21.chord.Chord(note_names)\n",
        "                    chord_symbol = music21.harmony.chordSymbolFromChord(chord_obj)\n",
        "                    chord_name = chord_symbol.figure\n",
        "                    if \"Cannot Be Identified\" in chord_name:\n",
        "                        raise Exception(\"Fallback\")\n",
        "                except:\n",
        "                    try:\n",
        "                        root = chord_obj.root().name\n",
        "                        quality = chord_obj.quality\n",
        "                        if quality == 'major':\n",
        "                            chord_name = root\n",
        "                        elif quality == 'minor':\n",
        "                            chord_name = root + 'm'\n",
        "                        elif quality == 'diminished':\n",
        "                            chord_name = root + 'dim'\n",
        "                        elif quality == 'augmented':\n",
        "                            chord_name = root + 'aug'\n",
        "                        elif quality == 'dominant':\n",
        "                            chord_name = root + '7'\n",
        "                        else:\n",
        "                            chord_name = root + '?'\n",
        "                    except:\n",
        "                        chord_name = \"Unknown\"\n",
        "\n",
        "            chord_segments.append({\n",
        "                \"start_time\": time_bin * bin_size,\n",
        "                \"end_time\": (time_bin + 1) * bin_size,\n",
        "                \"chord\": chord_name\n",
        "            })\n",
        "\n",
        "        return pd.DataFrame(chord_segments)\n",
        "    except Exception as e:\n",
        "        print(f\"Error in {csv_path}: {e}\")\n",
        "        return None"
      ],
      "metadata": {
        "id": "ugCwHV9xGMgP"
      },
      "execution_count": null,
      "outputs": []
    },
    {
      "cell_type": "code",
      "source": [
        "for file in csv_files:\n",
        "    print(f\"Predicting chords in: {os.path.basename(file)}\")\n",
        "    chord_df = predict_chords_from_csv(file)\n",
        "    if chord_df is not None:\n",
        "        output_path = os.path.join(output_dir, os.path.basename(file).replace(\".csv\", \"_chords.csv\"))\n",
        "        chord_df.to_csv(output_path, index=False)\n",
        "        print(f\"Saved to: {output_path}\\n\")\n",
        "    else:\n",
        "        print(f\"Failed to process {file}\\n\")"
      ],
      "metadata": {
        "id": "j0o3rIjQGPoa"
      },
      "execution_count": null,
      "outputs": []
    },
    {
      "cell_type": "markdown",
      "source": [
        "clean"
      ],
      "metadata": {
        "id": "wyBeySerGQWO"
      }
    },
    {
      "cell_type": "code",
      "source": [
        "import os\n",
        "import glob\n",
        "import pandas as pd\n",
        "import re"
      ],
      "metadata": {
        "id": "X7T6bsOYGRpS"
      },
      "execution_count": null,
      "outputs": []
    },
    {
      "cell_type": "code",
      "source": [
        "input_folder = \"/content/chordoutput\"\n",
        "output_folder = \"/content/cleanoutput\"\n",
        "\n",
        "os.makedirs(output_folder, exist_ok=True)"
      ],
      "metadata": {
        "id": "RH5tsFKYGT4y"
      },
      "execution_count": null,
      "outputs": []
    },
    {
      "cell_type": "code",
      "source": [
        "def clean_chord_name(raw_chord):\n",
        "    if not isinstance(raw_chord, str) or raw_chord.strip().lower() in ['unknown', '', '?']:\n",
        "        return 'Unknown'\n",
        "\n",
        "    chord = raw_chord.replace('♯', '#').replace('♭', 'b')\n",
        "    chord = chord.split('/')[0]\n",
        "    chord = re.sub(r'\\(.*?\\)', '', chord)\n",
        "    chord = re.sub(r'[^A-Ga-g#bmM\\d]', '', chord)\n",
        "    chord = chord.replace('min', 'm').replace('maj', 'maj').replace('M', '')\n",
        "    chord = chord.replace('ma7', 'maj7').replace('ma9', 'maj9')\n",
        "    chord = chord.replace(\"eadd\", \"add\")\n",
        "    chord = re.sub(r\"add[A-G#b]+\", \"\", chord)\n",
        "    chord = re.sub(r\"[^A-G#bmaugdinsj79]+\", \"\", chord)\n",
        "    chord = chord.replace(\"2\", \"sus2\").replace(\"11\", \"add11\")\n",
        "\n",
        "    if re.match(r\"[A-G][b#]?ma7\", chord):\n",
        "        chord = chord.replace(\"ma7\", \"maj7\")\n",
        "    if len(chord) > 5 and not re.match(r\"[A-G][#b]?m?(aj|in|aug|dim)?\\d*\", chord):\n",
        "        chord = chord[:2]\n",
        "    enharmonic_map = {\n",
        "        'B#': 'C', 'E#': 'F', 'Cb': 'B', 'Fb': 'E',\n",
        "        'G#': 'Ab', 'D#': 'Eb', 'A#': 'Bb',\n",
        "        'F##': 'G', 'C##': 'D', 'G--': 'F', 'D--': 'C', 'A--': 'G'\n",
        "    }\n",
        "\n",
        "    chord_root_match = re.match(r'^([A-G][#b]?)(.*)', chord)\n",
        "    if chord_root_match:\n",
        "        root = chord_root_match.group(1)\n",
        "        suffix = chord_root_match.group(2)\n",
        "        root_clean = enharmonic_map.get(root, root)\n",
        "        final = root_clean + suffix\n",
        "    else:\n",
        "        final = 'Unknown'\n",
        "\n",
        "    return final"
      ],
      "metadata": {
        "id": "BN7f089qGVf3"
      },
      "execution_count": null,
      "outputs": []
    },
    {
      "cell_type": "code",
      "source": [
        "csv_files = glob.glob(os.path.join(input_folder, \"*.csv\"))\n",
        "print(f\"file : {len(csv_files)} files\")\n",
        "\n",
        "for file_path in csv_files:\n",
        "    try:\n",
        "        df = pd.read_csv(file_path)\n",
        "        df['clean_chord'] = df['chord'].apply(clean_chord_name)\n",
        "\n",
        "        output_file = os.path.basename(file_path)\n",
        "        output_path = os.path.join(output_folder, output_file)\n",
        "        df.to_csv(output_path, index=False)\n",
        "        print(f\"cleaned: {output_file}\")\n",
        "    except Exception as e:\n",
        "        print(f\"error in {file_path}: {e}\")"
      ],
      "metadata": {
        "id": "E_FDJheyGXH9"
      },
      "execution_count": null,
      "outputs": []
    },
    {
      "cell_type": "code",
      "source": [
        "import shutil\n",
        "shutil.make_archive(\"cleanoutput\", 'zip', \"cleanoutput\")"
      ],
      "metadata": {
        "id": "dNqVSLWxGYaB"
      },
      "execution_count": null,
      "outputs": []
    },
    {
      "cell_type": "markdown",
      "source": [
        "check real chords"
      ],
      "metadata": {
        "id": "Kt56cgAoGZVZ"
      }
    },
    {
      "cell_type": "code",
      "source": [
        "import pandas as pd\n",
        "import os\n",
        "import glob"
      ],
      "metadata": {
        "id": "CH6ESXFCGcMS"
      },
      "execution_count": null,
      "outputs": []
    },
    {
      "cell_type": "code",
      "source": [
        "input_folder = \"/content/cleanoutput\"\n",
        "output_folder = \"/content/chord_playability_analysis\"\n",
        "os.makedirs(output_folder, exist_ok=True)"
      ],
      "metadata": {
        "id": "zHYv5He1GkUw"
      },
      "execution_count": null,
      "outputs": []
    },
    {
      "cell_type": "code",
      "source": [
        "common_guitar_chords = {\n",
        "    'A', 'Am', 'A7', 'Am7', 'Asus2', 'Asus4',\n",
        "    'B', 'Bm', 'B7', 'Bm7',\n",
        "    'C', 'Cm', 'C7', 'Cm7', 'Cmaj7',\n",
        "    'D', 'Dm', 'D7', 'Dm7', 'Dsus2', 'Dsus4',\n",
        "    'E', 'Em', 'E7', 'Em7',\n",
        "    'F', 'Fm', 'F7', 'Fmaj7',\n",
        "    'G', 'Gm', 'G7', 'Gmaj7',\n",
        "    'Bb', 'Bbm', 'Eb', 'Ebm', 'Ab', 'Abm',\n",
        "    'F#', 'F#m', 'C#', 'C#m', 'G#', 'G#m',\n",
        "    'D#', 'D#m', 'Db', 'Dbm',\n",
        "    'Unknown'\n",
        "}"
      ],
      "metadata": {
        "id": "eeceKtMaGlWX"
      },
      "execution_count": null,
      "outputs": []
    },
    {
      "cell_type": "code",
      "source": [
        "all_playable = set()\n",
        "all_unplayable = set()\n",
        "summary = []"
      ],
      "metadata": {
        "id": "lQ_d_kmiGnS8"
      },
      "execution_count": null,
      "outputs": []
    },
    {
      "cell_type": "code",
      "source": [
        "csv_files = glob.glob(os.path.join(input_folder, \"*.csv\"))\n",
        "print(f\"Files : {len(csv_files)}\")"
      ],
      "metadata": {
        "id": "OQH6B72wGpMq"
      },
      "execution_count": null,
      "outputs": []
    },
    {
      "cell_type": "code",
      "source": [
        "for file in csv_files:\n",
        "    df = pd.read_csv(file)\n",
        "\n",
        "    valid_chords = df[df['clean_chord'] != 'Unknown']['clean_chord'].unique()\n",
        "\n",
        "    playable = set([c for c in valid_chords if c in common_guitar_chords])\n",
        "    unplayable = set([c for c in valid_chords if c not in common_guitar_chords])\n",
        "\n",
        "    all_playable.update(playable)\n",
        "    all_unplayable.update(unplayable)\n",
        "\n",
        "    summary.append({\n",
        "        'filename': os.path.basename(file),\n",
        "        'total_segments': len(df),\n",
        "        'unique_chords': len(valid_chords),\n",
        "        'playable_chords': len(playable),\n",
        "        'unplayable_chords': len(unplayable),\n",
        "        'percent_playable': round(100 * len(playable) / len(valid_chords), 2) if len(valid_chords) > 0 else 0\n",
        "    })"
      ],
      "metadata": {
        "id": "Mk9p2EPrGqyf"
      },
      "execution_count": null,
      "outputs": []
    },
    {
      "cell_type": "code",
      "source": [
        "summary_df = pd.DataFrame(summary)\n",
        "summary_df.to_csv(os.path.join(output_folder, \"chord_playability_summary.csv\"), index=False)\n",
        "\n",
        "pd.DataFrame(sorted(all_playable), columns=[\"Playable_Chords\"]).to_csv(\n",
        "    os.path.join(output_folder, \"playable_chords.csv\"), index=False)\n",
        "\n",
        "pd.DataFrame(sorted(all_unplayable), columns=[\"Unplayable_Chords\"]).to_csv(\n",
        "    os.path.join(output_folder, \"unplayable_chords.csv\"), index=False)\n",
        "\n",
        "print(\"Done! :\", output_folder)"
      ],
      "metadata": {
        "id": "7m-Z0xhZGsTS"
      },
      "execution_count": null,
      "outputs": []
    },
    {
      "cell_type": "code",
      "source": [
        "import pandas as pd\n",
        "import numpy as np"
      ],
      "metadata": {
        "id": "OMzOGNrSG2Or"
      },
      "execution_count": null,
      "outputs": []
    },
    {
      "cell_type": "code",
      "source": [
        "df = pd.read_csv('chord_playability_analysis/chord_playability_summary.csv')\n",
        "print(f\"totaldata: {len(df)}\")\n",
        "print(df.head())"
      ],
      "metadata": {
        "id": "4SzuSZ2EG5rS"
      },
      "execution_count": null,
      "outputs": []
    },
    {
      "cell_type": "markdown",
      "source": [
        "create spectrogram dataset"
      ],
      "metadata": {
        "id": "jffAExuWHJMQ"
      }
    },
    {
      "cell_type": "code",
      "source": [
        "!pip install tensorflow==2.12 numpy==1.24.3 --force-reinstall\n",
        "import os\n",
        "os.kill(os.getpid(), 9)"
      ],
      "metadata": {
        "id": "EhJkI9rkHMsS"
      },
      "execution_count": null,
      "outputs": []
    },
    {
      "cell_type": "code",
      "source": [
        "import os\n",
        "import librosa\n",
        "import librosa.display\n",
        "import pandas as pd\n",
        "import matplotlib.pyplot as plt\n",
        "import numpy as np"
      ],
      "metadata": {
        "id": "Y9B01hhjHPkE"
      },
      "execution_count": null,
      "outputs": []
    },
    {
      "cell_type": "code",
      "source": [
        "import zipfile\n",
        "from google.colab import files\n",
        "\n",
        "uploaded = '/content/cleanoutput.zip'\n",
        "extract_dir = \"/content/annotationcsv\"\n",
        "with zipfile.ZipFile(uploaded, 'r') as zip_ref:\n",
        "    zip_ref.extractall(extract_dir)"
      ],
      "metadata": {
        "id": "mR5euZuoHTo1"
      },
      "execution_count": null,
      "outputs": []
    },
    {
      "cell_type": "markdown",
      "source": [
        "วนทำสี่ไฟล์zipที่มี"
      ],
      "metadata": {
        "id": "yInXXqAkHgYb"
      }
    },
    {
      "cell_type": "markdown",
      "source": [
        "\n",
        "\n",
        "*  audio_hex-pickup_original.zip\n",
        "*  audio_hex-pickup_debleeded.zip\n",
        "*  audio_mono-mic.zip\n",
        "*  audio_mono-pickup_mix.zip"
      ],
      "metadata": {
        "id": "p15jtiNOH8ZZ"
      }
    },
    {
      "cell_type": "code",
      "source": [
        "!pip install -q gdown\n",
        "!gdown --id [1k9xL4zA-9QV3z3K2QdZPxP0hn4OoUkBU]"
      ],
      "metadata": {
        "colab": {
          "base_uri": "https://localhost:8080/"
        },
        "id": "fKcj03W7l0Tz",
        "outputId": "6c8841da-2471-4a12-ef49-1c0a5f0917e9"
      },
      "execution_count": null,
      "outputs": [
        {
          "output_type": "stream",
          "name": "stdout",
          "text": [
            "/usr/local/lib/python3.11/dist-packages/gdown/__main__.py:140: FutureWarning: Option `--id` was deprecated in version 4.3.1 and will be removed in 5.0. You don't need to pass it anymore to use a file ID.\n",
            "  warnings.warn(\n",
            "Failed to retrieve file url:\n",
            "\n",
            "\tCannot retrieve the public link of the file. You may need to change\n",
            "\tthe permission to 'Anyone with the link', or have had many accesses.\n",
            "\tCheck FAQ in https://github.com/wkentaro/gdown?tab=readme-ov-file#faq.\n",
            "\n",
            "You may still be able to access the file from the browser:\n",
            "\n",
            "\thttps://drive.google.com/uc?id=[1k9xL4zA-9QV3z3K2QdZPxP0hn4OoUkBU]\n",
            "\n",
            "but Gdown can't. Please check connections and permissions.\n"
          ]
        }
      ]
    },
    {
      "cell_type": "code",
      "source": [
        "from google.colab import drive\n",
        "drive.mount('/content/drive')\n",
        "file_path = '/content/drive/MyDrive/audio_hex-pickup_debleeded.zip'"
      ],
      "metadata": {
        "id": "SsVCKS8zHXD3",
        "colab": {
          "base_uri": "https://localhost:8080/"
        },
        "outputId": "b83155b0-ede7-4ac2-a1a4-f66012b6f4c2"
      },
      "execution_count": null,
      "outputs": [
        {
          "output_type": "stream",
          "name": "stdout",
          "text": [
            "Drive already mounted at /content/drive; to attempt to forcibly remount, call drive.mount(\"/content/drive\", force_remount=True).\n"
          ]
        }
      ]
    },
    {
      "cell_type": "code",
      "source": [
        "import zipfile\n",
        "from google.colab import files\n",
        "\n",
        "uploaded = '/content/drive/MyDrive/cleanoutput.zip'\n",
        "extract_dir = \"annotation\"\n",
        "with zipfile.ZipFile(uploaded, 'r') as zip_ref:\n",
        "    zip_ref.extractall(extract_dir)"
      ],
      "metadata": {
        "id": "X_SIUNttIQj0"
      },
      "execution_count": null,
      "outputs": []
    },
    {
      "cell_type": "code",
      "source": [
        "def rename_files_remove_hex(folder_path):\n",
        "    for filename in os.listdir(folder_path):\n",
        "        if '_mix' in filename:\n",
        "            new_filename = filename.replace('_mix', '')\n",
        "            old_path = os.path.join(folder_path, filename)\n",
        "            new_path = os.path.join(folder_path, new_filename)\n",
        "            os.rename(old_path, new_path)\n",
        "            print(f\"Renamed: {filename} → {new_filename}\")\n",
        "        if '_mic' in filename:\n",
        "            new_filename = filename.replace('_mic', '')\n",
        "            old_path = os.path.join(folder_path, filename)\n",
        "            new_path = os.path.join(folder_path, new_filename)\n",
        "            os.rename(old_path, new_path)\n",
        "            print(f\"Renamed: {filename} → {new_filename}\")\n",
        "        if '_cln' in filename:\n",
        "            new_filename = filename.replace('_cln', '')\n",
        "            old_path = os.path.join(folder_path, filename)\n",
        "            new_path = os.path.join(folder_path, new_filename)\n",
        "            os.rename(old_path, new_path)\n",
        "            print(f\"Renamed: {filename} → {new_filename}\")\n",
        "        if '_hex' in filename:\n",
        "            new_filename = filename.replace('_hex', '')\n",
        "            old_path = os.path.join(folder_path, filename)\n",
        "            new_path = os.path.join(folder_path, new_filename)\n",
        "            os.rename(old_path, new_path)\n",
        "            print(f\"Renamed: {filename} → {new_filename}\")\n",
        "    print(\"Rename complete.\")"
      ],
      "metadata": {
        "id": "cPI_FYhNITo9"
      },
      "execution_count": null,
      "outputs": []
    },
    {
      "cell_type": "code",
      "source": [
        "rename_files_remove_hex(\"/content/audiotrack\")"
      ],
      "metadata": {
        "id": "3zcZ-8RGIVha",
        "colab": {
          "base_uri": "https://localhost:8080/"
        },
        "outputId": "77ed7411-b8a4-4901-ab99-d7f0494656ee",
        "collapsed": true
      },
      "execution_count": null,
      "outputs": [
        {
          "output_type": "stream",
          "name": "stdout",
          "text": [
            "Renamed: 03_Rock3-117-Bb_solo_hex.wav → 03_Rock3-117-Bb_solo.wav\n",
            "Renamed: 04_SS1-68-E_solo_hex.wav → 04_SS1-68-E_solo.wav\n",
            "Renamed: 05_Jazz3-137-Eb_comp_hex.wav → 05_Jazz3-137-Eb_comp.wav\n",
            "Renamed: 03_Jazz2-110-Bb_comp_hex.wav → 03_Jazz2-110-Bb_comp.wav\n",
            "Renamed: 04_BN3-119-G_solo_hex.wav → 04_BN3-119-G_solo.wav\n",
            "Renamed: 00_SS1-68-E_comp_hex.wav → 00_SS1-68-E_comp.wav\n",
            "Renamed: 02_SS1-68-E_comp_hex.wav → 02_SS1-68-E_comp.wav\n",
            "Renamed: 02_Funk1-114-Ab_comp_hex.wav → 02_Funk1-114-Ab_comp.wav\n",
            "Renamed: 01_Rock3-117-Bb_comp_hex.wav → 01_Rock3-117-Bb_comp.wav\n",
            "Renamed: 01_Funk1-114-Ab_comp_hex.wav → 01_Funk1-114-Ab_comp.wav\n",
            "Renamed: 03_Funk3-112-C#_solo_hex.wav → 03_Funk3-112-C#_solo.wav\n",
            "Renamed: 05_BN2-131-B_comp_hex.wav → 05_BN2-131-B_comp.wav\n",
            "Renamed: 05_Jazz2-110-Bb_comp_hex.wav → 05_Jazz2-110-Bb_comp.wav\n",
            "Renamed: 03_Funk3-98-A_comp_hex.wav → 03_Funk3-98-A_comp.wav\n",
            "Renamed: 02_SS2-88-F_comp_hex.wav → 02_SS2-88-F_comp.wav\n",
            "Renamed: 03_BN3-119-G_comp_hex.wav → 03_BN3-119-G_comp.wav\n",
            "Renamed: 01_Funk2-108-Eb_solo_hex.wav → 01_Funk2-108-Eb_solo.wav\n",
            "Renamed: 05_Funk1-97-C_comp_hex.wav → 05_Funk1-97-C_comp.wav\n",
            "Renamed: 05_BN1-129-Eb_comp_hex.wav → 05_BN1-129-Eb_comp.wav\n",
            "Renamed: 01_SS3-84-Bb_comp_hex.wav → 01_SS3-84-Bb_comp.wav\n",
            "Renamed: 04_Rock2-85-F_comp_hex.wav → 04_Rock2-85-F_comp.wav\n",
            "Renamed: 04_SS3-98-C_comp_hex.wav → 04_SS3-98-C_comp.wav\n",
            "Renamed: 04_Jazz1-130-D_solo_hex.wav → 04_Jazz1-130-D_solo.wav\n",
            "Renamed: 05_Jazz1-130-D_comp_hex.wav → 05_Jazz1-130-D_comp.wav\n",
            "Renamed: 02_BN3-154-E_comp_hex.wav → 02_BN3-154-E_comp.wav\n",
            "Renamed: 03_BN3-154-E_solo_hex.wav → 03_BN3-154-E_solo.wav\n",
            "Renamed: 05_Funk2-108-Eb_comp_hex.wav → 05_Funk2-108-Eb_comp.wav\n",
            "Renamed: 05_Funk2-119-G_solo_hex.wav → 05_Funk2-119-G_solo.wav\n",
            "Renamed: 03_BN2-131-B_comp_hex.wav → 03_BN2-131-B_comp.wav\n",
            "Renamed: 02_SS3-98-C_comp_hex.wav → 02_SS3-98-C_comp.wav\n",
            "Renamed: 02_SS3-98-C_solo_hex.wav → 02_SS3-98-C_solo.wav\n",
            "Renamed: 05_BN2-166-Ab_comp_hex.wav → 05_BN2-166-Ab_comp.wav\n",
            "Renamed: 05_Rock1-90-C#_solo_hex.wav → 05_Rock1-90-C#_solo.wav\n",
            "Renamed: 00_Jazz2-187-F#_comp_hex.wav → 00_Jazz2-187-F#_comp.wav\n",
            "Renamed: audio_hex-pickup_original → audio-pickup_original\n",
            "Renamed: 04_Funk1-114-Ab_solo_hex.wav → 04_Funk1-114-Ab_solo.wav\n",
            "Renamed: 01_Jazz2-187-F#_solo_hex.wav → 01_Jazz2-187-F#_solo.wav\n",
            "Renamed: 05_BN1-129-Eb_solo_hex.wav → 05_BN1-129-Eb_solo.wav\n",
            "Renamed: 02_Rock1-130-A_comp_hex.wav → 02_Rock1-130-A_comp.wav\n",
            "Renamed: 04_Rock1-90-C#_solo_hex.wav → 04_Rock1-90-C#_solo.wav\n",
            "Renamed: 03_SS3-98-C_solo_hex.wav → 03_SS3-98-C_solo.wav\n",
            "Renamed: 04_SS2-88-F_comp_hex.wav → 04_SS2-88-F_comp.wav\n",
            "Renamed: 00_Jazz1-200-B_comp_hex.wav → 00_Jazz1-200-B_comp.wav\n",
            "Renamed: 03_SS3-84-Bb_solo_hex.wav → 03_SS3-84-Bb_solo.wav\n",
            "Renamed: 01_SS2-88-F_comp_hex.wav → 01_SS2-88-F_comp.wav\n",
            "Renamed: 02_BN1-129-Eb_comp_hex.wav → 02_BN1-129-Eb_comp.wav\n",
            "Renamed: 00_Jazz3-150-C_comp_hex.wav → 00_Jazz3-150-C_comp.wav\n",
            "Renamed: 01_Funk3-112-C#_solo_hex.wav → 01_Funk3-112-C#_solo.wav\n",
            "Renamed: 05_SS2-107-Ab_solo_hex.wav → 05_SS2-107-Ab_solo.wav\n",
            "Renamed: 05_SS2-88-F_comp_hex.wav → 05_SS2-88-F_comp.wav\n",
            "Renamed: 05_SS2-88-F_solo_hex.wav → 05_SS2-88-F_solo.wav\n",
            "Renamed: 01_BN3-154-E_solo_hex.wav → 01_BN3-154-E_solo.wav\n",
            "Renamed: 04_Jazz3-137-Eb_solo_hex.wav → 04_Jazz3-137-Eb_solo.wav\n",
            "Renamed: 02_Rock2-142-D_comp_hex.wav → 02_Rock2-142-D_comp.wav\n",
            "Renamed: 00_SS2-107-Ab_comp_hex.wav → 00_SS2-107-Ab_comp.wav\n",
            "Renamed: 04_SS3-98-C_solo_hex.wav → 04_SS3-98-C_solo.wav\n",
            "Renamed: 01_Rock1-130-A_comp_hex.wav → 01_Rock1-130-A_comp.wav\n",
            "Renamed: 01_Funk1-114-Ab_solo_hex.wav → 01_Funk1-114-Ab_solo.wav\n",
            "Renamed: 01_Jazz3-137-Eb_solo_hex.wav → 01_Jazz3-137-Eb_solo.wav\n",
            "Renamed: 01_Rock3-117-Bb_solo_hex.wav → 01_Rock3-117-Bb_solo.wav\n",
            "Renamed: 01_Funk3-98-A_comp_hex.wav → 01_Funk3-98-A_comp.wav\n",
            "Renamed: 01_SS3-98-C_solo_hex.wav → 01_SS3-98-C_solo.wav\n",
            "Renamed: 01_Jazz3-150-C_comp_hex.wav → 01_Jazz3-150-C_comp.wav\n",
            "Renamed: 02_Rock1-90-C#_solo_hex.wav → 02_Rock1-90-C#_solo.wav\n",
            "Renamed: 00_Funk2-108-Eb_solo_hex.wav → 00_Funk2-108-Eb_solo.wav\n",
            "Renamed: 01_BN2-166-Ab_comp_hex.wav → 01_BN2-166-Ab_comp.wav\n",
            "Renamed: 02_SS2-107-Ab_solo_hex.wav → 02_SS2-107-Ab_solo.wav\n",
            "Renamed: 05_BN1-147-Gb_solo_hex.wav → 05_BN1-147-Gb_solo.wav\n",
            "Renamed: 00_Rock1-130-A_comp_hex.wav → 00_Rock1-130-A_comp.wav\n",
            "Renamed: 02_Rock1-90-C#_comp_hex.wav → 02_Rock1-90-C#_comp.wav\n",
            "Renamed: 04_BN1-147-Gb_comp_hex.wav → 04_BN1-147-Gb_comp.wav\n",
            "Renamed: 05_Funk3-112-C#_comp_hex.wav → 05_Funk3-112-C#_comp.wav\n",
            "Renamed: 05_Jazz3-137-Eb_solo_hex.wav → 05_Jazz3-137-Eb_solo.wav\n",
            "Renamed: 00_BN2-131-B_comp_hex.wav → 00_BN2-131-B_comp.wav\n",
            "Renamed: 04_SS1-100-C#_solo_hex.wav → 04_SS1-100-C#_solo.wav\n",
            "Renamed: 04_Rock1-130-A_comp_hex.wav → 04_Rock1-130-A_comp.wav\n",
            "Renamed: 03_Rock2-142-D_comp_hex.wav → 03_Rock2-142-D_comp.wav\n",
            "Renamed: 01_SS3-84-Bb_solo_hex.wav → 01_SS3-84-Bb_solo.wav\n",
            "Renamed: 05_BN2-131-B_solo_hex.wav → 05_BN2-131-B_solo.wav\n",
            "Renamed: 00_Rock3-148-C_comp_hex.wav → 00_Rock3-148-C_comp.wav\n",
            "Renamed: 05_Rock1-130-A_solo_hex.wav → 05_Rock1-130-A_solo.wav\n",
            "Renamed: 04_Jazz3-137-Eb_comp_hex.wav → 04_Jazz3-137-Eb_comp.wav\n",
            "Renamed: 02_Funk3-112-C#_solo_hex.wav → 02_Funk3-112-C#_solo.wav\n",
            "Renamed: 03_Jazz1-200-B_solo_hex.wav → 03_Jazz1-200-B_solo.wav\n",
            "Renamed: 05_Rock2-85-F_comp_hex.wav → 05_Rock2-85-F_comp.wav\n",
            "Renamed: 00_BN1-147-Gb_comp_hex.wav → 00_BN1-147-Gb_comp.wav\n",
            "Renamed: 03_Jazz3-137-Eb_solo_hex.wav → 03_Jazz3-137-Eb_solo.wav\n",
            "Renamed: 03_Jazz1-130-D_comp_hex.wav → 03_Jazz1-130-D_comp.wav\n",
            "Renamed: 01_BN2-131-B_solo_hex.wav → 01_BN2-131-B_solo.wav\n",
            "Renamed: 03_BN2-166-Ab_solo_hex.wav → 03_BN2-166-Ab_solo.wav\n",
            "Renamed: 03_BN2-166-Ab_comp_hex.wav → 03_BN2-166-Ab_comp.wav\n",
            "Renamed: 04_SS3-84-Bb_solo_hex.wav → 04_SS3-84-Bb_solo.wav\n",
            "Renamed: 05_Rock2-85-F_solo_hex.wav → 05_Rock2-85-F_solo.wav\n",
            "Renamed: 03_Rock3-148-C_comp_hex.wav → 03_Rock3-148-C_comp.wav\n",
            "Renamed: 00_Funk2-119-G_solo_hex.wav → 00_Funk2-119-G_solo.wav\n",
            "Renamed: 01_Rock2-142-D_solo_hex.wav → 01_Rock2-142-D_solo.wav\n",
            "Renamed: 02_SS1-100-C#_comp_hex.wav → 02_SS1-100-C#_comp.wav\n",
            "Renamed: 01_SS2-88-F_solo_hex.wav → 01_SS2-88-F_solo.wav\n",
            "Renamed: 02_BN3-119-G_solo_hex.wav → 02_BN3-119-G_solo.wav\n",
            "Renamed: 01_Jazz2-110-Bb_solo_hex.wav → 01_Jazz2-110-Bb_solo.wav\n",
            "Renamed: 04_Rock2-85-F_solo_hex.wav → 04_Rock2-85-F_solo.wav\n",
            "Renamed: 00_Jazz3-137-Eb_solo_hex.wav → 00_Jazz3-137-Eb_solo.wav\n",
            "Renamed: 04_BN2-131-B_solo_hex.wav → 04_BN2-131-B_solo.wav\n",
            "Renamed: 02_Funk1-114-Ab_solo_hex.wav → 02_Funk1-114-Ab_solo.wav\n",
            "Renamed: 00_SS3-84-Bb_solo_hex.wav → 00_SS3-84-Bb_solo.wav\n",
            "Renamed: 00_Funk1-97-C_solo_hex.wav → 00_Funk1-97-C_solo.wav\n",
            "Renamed: 00_Funk2-108-Eb_comp_hex.wav → 00_Funk2-108-Eb_comp.wav\n",
            "Renamed: 00_BN2-166-Ab_comp_hex.wav → 00_BN2-166-Ab_comp.wav\n",
            "Renamed: 05_Funk3-98-A_solo_hex.wav → 05_Funk3-98-A_solo.wav\n",
            "Renamed: 02_Funk2-108-Eb_comp_hex.wav → 02_Funk2-108-Eb_comp.wav\n",
            "Renamed: 05_SS3-98-C_solo_hex.wav → 05_SS3-98-C_solo.wav\n",
            "Renamed: 02_Rock3-117-Bb_comp_hex.wav → 02_Rock3-117-Bb_comp.wav\n",
            "Renamed: 01_Jazz2-187-F#_comp_hex.wav → 01_Jazz2-187-F#_comp.wav\n",
            "Renamed: 00_Funk1-114-Ab_comp_hex.wav → 00_Funk1-114-Ab_comp.wav\n",
            "Renamed: 01_Funk1-97-C_comp_hex.wav → 01_Funk1-97-C_comp.wav\n",
            "Renamed: 00_SS2-88-F_solo_hex.wav → 00_SS2-88-F_solo.wav\n",
            "Renamed: 00_SS3-98-C_comp_hex.wav → 00_SS3-98-C_comp.wav\n",
            "Renamed: 00_Funk2-119-G_comp_hex.wav → 00_Funk2-119-G_comp.wav\n",
            "Renamed: 02_Funk2-108-Eb_solo_hex.wav → 02_Funk2-108-Eb_solo.wav\n",
            "Renamed: 00_BN1-129-Eb_solo_hex.wav → 00_BN1-129-Eb_solo.wav\n",
            "Renamed: 02_Jazz3-150-C_solo_hex.wav → 02_Jazz3-150-C_solo.wav\n",
            "Renamed: 05_Funk3-112-C#_solo_hex.wav → 05_Funk3-112-C#_solo.wav\n",
            "Renamed: 02_Rock2-85-F_comp_hex.wav → 02_Rock2-85-F_comp.wav\n",
            "Renamed: 03_SS3-84-Bb_comp_hex.wav → 03_SS3-84-Bb_comp.wav\n",
            "Renamed: 03_BN2-131-B_solo_hex.wav → 03_BN2-131-B_solo.wav\n",
            "Renamed: 03_Rock2-142-D_solo_hex.wav → 03_Rock2-142-D_solo.wav\n",
            "Renamed: 03_Rock2-85-F_solo_hex.wav → 03_Rock2-85-F_solo.wav\n",
            "Renamed: 01_Jazz1-130-D_solo_hex.wav → 01_Jazz1-130-D_solo.wav\n",
            "Renamed: 03_Funk3-112-C#_comp_hex.wav → 03_Funk3-112-C#_comp.wav\n",
            "Renamed: 04_SS2-107-Ab_solo_hex.wav → 04_SS2-107-Ab_solo.wav\n",
            "Renamed: 04_BN2-131-B_comp_hex.wav → 04_BN2-131-B_comp.wav\n",
            "Renamed: 01_Jazz1-200-B_comp_hex.wav → 01_Jazz1-200-B_comp.wav\n",
            "Renamed: 00_Rock1-90-C#_solo_hex.wav → 00_Rock1-90-C#_solo.wav\n",
            "Renamed: 02_Funk1-97-C_solo_hex.wav → 02_Funk1-97-C_solo.wav\n",
            "Renamed: 05_SS3-84-Bb_solo_hex.wav → 05_SS3-84-Bb_solo.wav\n",
            "Renamed: 02_Jazz1-200-B_solo_hex.wav → 02_Jazz1-200-B_solo.wav\n",
            "Renamed: 05_Jazz1-200-B_comp_hex.wav → 05_Jazz1-200-B_comp.wav\n",
            "Renamed: 03_Funk1-114-Ab_solo_hex.wav → 03_Funk1-114-Ab_solo.wav\n",
            "Renamed: 04_Jazz3-150-C_comp_hex.wav → 04_Jazz3-150-C_comp.wav\n",
            "Renamed: 04_Funk3-112-C#_comp_hex.wav → 04_Funk3-112-C#_comp.wav\n",
            "Renamed: 04_Jazz1-130-D_comp_hex.wav → 04_Jazz1-130-D_comp.wav\n",
            "Renamed: 00_Rock2-85-F_comp_hex.wav → 00_Rock2-85-F_comp.wav\n",
            "Renamed: 03_SS1-68-E_solo_hex.wav → 03_SS1-68-E_solo.wav\n",
            "Renamed: 03_Funk2-108-Eb_solo_hex.wav → 03_Funk2-108-Eb_solo.wav\n",
            "Renamed: 01_SS1-68-E_comp_hex.wav → 01_SS1-68-E_comp.wav\n",
            "Renamed: 01_BN1-147-Gb_comp_hex.wav → 01_BN1-147-Gb_comp.wav\n",
            "Renamed: 00_BN3-154-E_solo_hex.wav → 00_BN3-154-E_solo.wav\n",
            "Renamed: 03_SS1-68-E_comp_hex.wav → 03_SS1-68-E_comp.wav\n",
            "Renamed: 00_Jazz2-110-Bb_solo_hex.wav → 00_Jazz2-110-Bb_solo.wav\n",
            "Renamed: 00_Rock2-142-D_comp_hex.wav → 00_Rock2-142-D_comp.wav\n",
            "Renamed: 00_Rock3-117-Bb_solo_hex.wav → 00_Rock3-117-Bb_solo.wav\n",
            "Renamed: 04_Funk1-97-C_solo_hex.wav → 04_Funk1-97-C_solo.wav\n",
            "Renamed: 05_SS3-84-Bb_comp_hex.wav → 05_SS3-84-Bb_comp.wav\n",
            "Renamed: 03_BN3-154-E_comp_hex.wav → 03_BN3-154-E_comp.wav\n",
            "Renamed: 03_Funk2-119-G_solo_hex.wav → 03_Funk2-119-G_solo.wav\n",
            "Renamed: 03_Rock1-90-C#_solo_hex.wav → 03_Rock1-90-C#_solo.wav\n",
            "Renamed: 01_Jazz2-110-Bb_comp_hex.wav → 01_Jazz2-110-Bb_comp.wav\n",
            "Renamed: 03_Funk2-108-Eb_comp_hex.wav → 03_Funk2-108-Eb_comp.wav\n",
            "Renamed: 00_Funk3-112-C#_solo_hex.wav → 00_Funk3-112-C#_solo.wav\n",
            "Renamed: 02_Rock2-85-F_solo_hex.wav → 02_Rock2-85-F_solo.wav\n",
            "Renamed: 05_Jazz3-150-C_solo_hex.wav → 05_Jazz3-150-C_solo.wav\n",
            "Renamed: 01_BN3-119-G_solo_hex.wav → 01_BN3-119-G_solo.wav\n",
            "Renamed: 04_Jazz2-110-Bb_solo_hex.wav → 04_Jazz2-110-Bb_solo.wav\n",
            "Renamed: 01_Rock1-130-A_solo_hex.wav → 01_Rock1-130-A_solo.wav\n",
            "Renamed: 01_BN1-129-Eb_comp_hex.wav → 01_BN1-129-Eb_comp.wav\n",
            "Renamed: 00_Rock3-148-C_solo_hex.wav → 00_Rock3-148-C_solo.wav\n",
            "Renamed: 03_Funk3-98-A_solo_hex.wav → 03_Funk3-98-A_solo.wav\n",
            "Renamed: 04_Rock3-148-C_solo_hex.wav → 04_Rock3-148-C_solo.wav\n",
            "Renamed: 04_BN2-166-Ab_comp_hex.wav → 04_BN2-166-Ab_comp.wav\n",
            "Renamed: 01_Jazz1-130-D_comp_hex.wav → 01_Jazz1-130-D_comp.wav\n",
            "Renamed: 00_Rock1-90-C#_comp_hex.wav → 00_Rock1-90-C#_comp.wav\n",
            "Renamed: 00_Jazz2-187-F#_solo_hex.wav → 00_Jazz2-187-F#_solo.wav\n",
            "Renamed: 01_Rock2-85-F_comp_hex.wav → 01_Rock2-85-F_comp.wav\n",
            "Renamed: 04_BN3-154-E_comp_hex.wav → 04_BN3-154-E_comp.wav\n",
            "Renamed: 03_SS2-107-Ab_comp_hex.wav → 03_SS2-107-Ab_comp.wav\n",
            "Renamed: 02_Funk3-112-C#_comp_hex.wav → 02_Funk3-112-C#_comp.wav\n",
            "Renamed: 00_Jazz2-110-Bb_comp_hex.wav → 00_Jazz2-110-Bb_comp.wav\n",
            "Renamed: 02_Jazz2-110-Bb_comp_hex.wav → 02_Jazz2-110-Bb_comp.wav\n",
            "Renamed: 01_Funk3-98-A_solo_hex.wav → 01_Funk3-98-A_solo.wav\n",
            "Renamed: 04_Funk2-119-G_solo_hex.wav → 04_Funk2-119-G_solo.wav\n",
            "Renamed: 03_Jazz1-200-B_comp_hex.wav → 03_Jazz1-200-B_comp.wav\n",
            "Renamed: 00_BN3-154-E_comp_hex.wav → 00_BN3-154-E_comp.wav\n",
            "Renamed: 04_Jazz2-110-Bb_comp_hex.wav → 04_Jazz2-110-Bb_comp.wav\n",
            "Renamed: 01_Jazz3-137-Eb_comp_hex.wav → 01_Jazz3-137-Eb_comp.wav\n",
            "Renamed: 03_Funk1-97-C_solo_hex.wav → 03_Funk1-97-C_solo.wav\n",
            "Renamed: 00_Rock1-130-A_solo_hex.wav → 00_Rock1-130-A_solo.wav\n",
            "Renamed: 02_BN2-131-B_comp_hex.wav → 02_BN2-131-B_comp.wav\n",
            "Renamed: 00_Funk3-98-A_comp_hex.wav → 00_Funk3-98-A_comp.wav\n",
            "Renamed: 02_Jazz1-130-D_comp_hex.wav → 02_Jazz1-130-D_comp.wav\n",
            "Renamed: 05_Funk2-108-Eb_solo_hex.wav → 05_Funk2-108-Eb_solo.wav\n",
            "Renamed: 01_Funk3-112-C#_comp_hex.wav → 01_Funk3-112-C#_comp.wav\n",
            "Renamed: 03_Rock1-130-A_comp_hex.wav → 03_Rock1-130-A_comp.wav\n",
            "Renamed: 05_Rock1-90-C#_comp_hex.wav → 05_Rock1-90-C#_comp.wav\n",
            "Renamed: 04_SS1-68-E_comp_hex.wav → 04_SS1-68-E_comp.wav\n",
            "Renamed: 01_BN1-147-Gb_solo_hex.wav → 01_BN1-147-Gb_solo.wav\n",
            "Renamed: 01_SS1-100-C#_comp_hex.wav → 01_SS1-100-C#_comp.wav\n",
            "Renamed: 02_Rock3-148-C_comp_hex.wav → 02_Rock3-148-C_comp.wav\n",
            "Renamed: 01_SS1-100-C#_solo_hex.wav → 01_SS1-100-C#_solo.wav\n",
            "Renamed: 04_BN3-154-E_solo_hex.wav → 04_BN3-154-E_solo.wav\n",
            "Renamed: 04_SS3-84-Bb_comp_hex.wav → 04_SS3-84-Bb_comp.wav\n",
            "Renamed: 04_Jazz1-200-B_solo_hex.wav → 04_Jazz1-200-B_solo.wav\n",
            "Renamed: 04_Funk2-108-Eb_comp_hex.wav → 04_Funk2-108-Eb_comp.wav\n",
            "Renamed: 00_Jazz1-200-B_solo_hex.wav → 00_Jazz1-200-B_solo.wav\n",
            "Renamed: 03_Jazz3-150-C_comp_hex.wav → 03_Jazz3-150-C_comp.wav\n",
            "Renamed: 00_SS3-84-Bb_comp_hex.wav → 00_SS3-84-Bb_comp.wav\n",
            "Renamed: 03_Rock2-85-F_comp_hex.wav → 03_Rock2-85-F_comp.wav\n",
            "Renamed: 04_BN1-129-Eb_solo_hex.wav → 04_BN1-129-Eb_solo.wav\n",
            "Renamed: 05_SS1-68-E_comp_hex.wav → 05_SS1-68-E_comp.wav\n",
            "Renamed: 02_BN3-154-E_solo_hex.wav → 02_BN3-154-E_solo.wav\n",
            "Renamed: 02_SS2-107-Ab_comp_hex.wav → 02_SS2-107-Ab_comp.wav\n",
            "Renamed: 02_Jazz3-137-Eb_solo_hex.wav → 02_Jazz3-137-Eb_solo.wav\n",
            "Renamed: 05_Jazz2-187-F#_solo_hex.wav → 05_Jazz2-187-F#_solo.wav\n",
            "Renamed: 05_Rock3-148-C_solo_hex.wav → 05_Rock3-148-C_solo.wav\n",
            "Renamed: 03_SS3-98-C_comp_hex.wav → 03_SS3-98-C_comp.wav\n",
            "Renamed: 05_SS1-100-C#_comp_hex.wav → 05_SS1-100-C#_comp.wav\n",
            "Renamed: 01_BN2-131-B_comp_hex.wav → 01_BN2-131-B_comp.wav\n",
            "Renamed: 00_SS1-100-C#_comp_hex.wav → 00_SS1-100-C#_comp.wav\n",
            "Renamed: 04_BN1-129-Eb_comp_hex.wav → 04_BN1-129-Eb_comp.wav\n",
            "Renamed: 04_Funk2-119-G_comp_hex.wav → 04_Funk2-119-G_comp.wav\n",
            "Renamed: 03_Jazz3-150-C_solo_hex.wav → 03_Jazz3-150-C_solo.wav\n",
            "Renamed: 05_Jazz2-110-Bb_solo_hex.wav → 05_Jazz2-110-Bb_solo.wav\n",
            "Renamed: 03_Rock1-130-A_solo_hex.wav → 03_Rock1-130-A_solo.wav\n",
            "Renamed: 03_BN1-129-Eb_comp_hex.wav → 03_BN1-129-Eb_comp.wav\n",
            "Renamed: 00_Rock2-142-D_solo_hex.wav → 00_Rock2-142-D_solo.wav\n",
            "Renamed: 05_Funk1-114-Ab_comp_hex.wav → 05_Funk1-114-Ab_comp.wav\n",
            "Renamed: 02_BN3-119-G_comp_hex.wav → 02_BN3-119-G_comp.wav\n",
            "Renamed: 02_Rock3-117-Bb_solo_hex.wav → 02_Rock3-117-Bb_solo.wav\n",
            "Renamed: 05_SS2-107-Ab_comp_hex.wav → 05_SS2-107-Ab_comp.wav\n",
            "Renamed: 04_Funk3-98-A_solo_hex.wav → 04_Funk3-98-A_solo.wav\n",
            "Renamed: 02_Funk2-119-G_solo_hex.wav → 02_Funk2-119-G_solo.wav\n",
            "Renamed: 02_BN2-131-B_solo_hex.wav → 02_BN2-131-B_solo.wav\n",
            "Renamed: 02_SS2-88-F_solo_hex.wav → 02_SS2-88-F_solo.wav\n",
            "Renamed: 02_Jazz2-187-F#_comp_hex.wav → 02_Jazz2-187-F#_comp.wav\n",
            "Renamed: 02_Rock1-130-A_solo_hex.wav → 02_Rock1-130-A_solo.wav\n",
            "Renamed: 01_BN1-129-Eb_solo_hex.wav → 01_BN1-129-Eb_solo.wav\n",
            "Renamed: 00_SS2-107-Ab_solo_hex.wav → 00_SS2-107-Ab_solo.wav\n",
            "Renamed: 02_BN2-166-Ab_comp_hex.wav → 02_BN2-166-Ab_comp.wav\n",
            "Renamed: 05_BN3-119-G_comp_hex.wav → 05_BN3-119-G_comp.wav\n",
            "Renamed: 01_SS1-68-E_solo_hex.wav → 01_SS1-68-E_solo.wav\n",
            "Renamed: 02_SS1-100-C#_solo_hex.wav → 02_SS1-100-C#_solo.wav\n",
            "Renamed: 00_Funk1-97-C_comp_hex.wav → 00_Funk1-97-C_comp.wav\n",
            "Renamed: 02_Funk3-98-A_solo_hex.wav → 02_Funk3-98-A_solo.wav\n",
            "Renamed: 04_Rock3-117-Bb_solo_hex.wav → 04_Rock3-117-Bb_solo.wav\n",
            "Renamed: 00_BN1-129-Eb_comp_hex.wav → 00_BN1-129-Eb_comp.wav\n",
            "Renamed: 02_BN2-166-Ab_solo_hex.wav → 02_BN2-166-Ab_solo.wav\n",
            "Renamed: 01_SS3-98-C_comp_hex.wav → 01_SS3-98-C_comp.wav\n",
            "Renamed: 01_Rock3-148-C_comp_hex.wav → 01_Rock3-148-C_comp.wav\n",
            "Renamed: 01_BN3-119-G_comp_hex.wav → 01_BN3-119-G_comp.wav\n",
            "Renamed: 05_Jazz2-187-F#_comp_hex.wav → 05_Jazz2-187-F#_comp.wav\n",
            "Renamed: 03_Funk1-114-Ab_comp_hex.wav → 03_Funk1-114-Ab_comp.wav\n",
            "Renamed: 02_Funk1-97-C_comp_hex.wav → 02_Funk1-97-C_comp.wav\n",
            "Renamed: 03_Jazz2-187-F#_comp_hex.wav → 03_Jazz2-187-F#_comp.wav\n",
            "Renamed: 03_SS2-88-F_solo_hex.wav → 03_SS2-88-F_solo.wav\n",
            "Renamed: 03_Rock1-90-C#_comp_hex.wav → 03_Rock1-90-C#_comp.wav\n",
            "Renamed: 02_Funk3-98-A_comp_hex.wav → 02_Funk3-98-A_comp.wav\n",
            "Renamed: 05_Rock2-142-D_solo_hex.wav → 05_Rock2-142-D_solo.wav\n",
            "Renamed: 05_Rock3-117-Bb_solo_hex.wav → 05_Rock3-117-Bb_solo.wav\n",
            "Renamed: 02_Rock3-148-C_solo_hex.wav → 02_Rock3-148-C_solo.wav\n",
            "Renamed: 00_SS1-100-C#_solo_hex.wav → 00_SS1-100-C#_solo.wav\n",
            "Renamed: 03_Rock3-148-C_solo_hex.wav → 03_Rock3-148-C_solo.wav\n",
            "Renamed: 02_SS1-68-E_solo_hex.wav → 02_SS1-68-E_solo.wav\n",
            "Renamed: 04_SS1-100-C#_comp_hex.wav → 04_SS1-100-C#_comp.wav\n",
            "Renamed: 01_Rock2-142-D_comp_hex.wav → 01_Rock2-142-D_comp.wav\n",
            "Renamed: 01_Rock1-90-C#_comp_hex.wav → 01_Rock1-90-C#_comp.wav\n",
            "Renamed: 05_BN1-147-Gb_comp_hex.wav → 05_BN1-147-Gb_comp.wav\n",
            "Renamed: 04_Rock1-130-A_solo_hex.wav → 04_Rock1-130-A_solo.wav\n",
            "Renamed: 05_Rock2-142-D_comp_hex.wav → 05_Rock2-142-D_comp.wav\n",
            "Renamed: 05_Rock1-130-A_comp_hex.wav → 05_Rock1-130-A_comp.wav\n",
            "Renamed: 04_Jazz2-187-F#_comp_hex.wav → 04_Jazz2-187-F#_comp.wav\n",
            "Renamed: 00_BN3-119-G_comp_hex.wav → 00_BN3-119-G_comp.wav\n",
            "Renamed: 05_Jazz3-150-C_comp_hex.wav → 05_Jazz3-150-C_comp.wav\n",
            "Renamed: 04_Jazz3-150-C_solo_hex.wav → 04_Jazz3-150-C_solo.wav\n",
            "Renamed: 03_Funk1-97-C_comp_hex.wav → 03_Funk1-97-C_comp.wav\n",
            "Renamed: 04_Rock2-142-D_comp_hex.wav → 04_Rock2-142-D_comp.wav\n",
            "Renamed: 03_Funk2-119-G_comp_hex.wav → 03_Funk2-119-G_comp.wav\n",
            "Renamed: 00_Jazz1-130-D_solo_hex.wav → 00_Jazz1-130-D_solo.wav\n",
            "Renamed: 00_BN3-119-G_solo_hex.wav → 00_BN3-119-G_solo.wav\n",
            "Renamed: 03_Jazz3-137-Eb_comp_hex.wav → 03_Jazz3-137-Eb_comp.wav\n",
            "Renamed: 00_BN2-166-Ab_solo_hex.wav → 00_BN2-166-Ab_solo.wav\n",
            "Renamed: 04_SS2-88-F_solo_hex.wav → 04_SS2-88-F_solo.wav\n",
            "Renamed: 03_SS1-100-C#_solo_hex.wav → 03_SS1-100-C#_solo.wav\n",
            "Renamed: 04_Jazz2-187-F#_solo_hex.wav → 04_Jazz2-187-F#_solo.wav\n",
            "Renamed: 02_BN1-147-Gb_comp_hex.wav → 02_BN1-147-Gb_comp.wav\n",
            "Renamed: 00_SS3-98-C_solo_hex.wav → 00_SS3-98-C_solo.wav\n",
            "Renamed: 05_BN3-154-E_comp_hex.wav → 05_BN3-154-E_comp.wav\n",
            "Renamed: 03_BN3-119-G_solo_hex.wav → 03_BN3-119-G_solo.wav\n",
            "Renamed: 04_SS2-107-Ab_comp_hex.wav → 04_SS2-107-Ab_comp.wav\n",
            "Renamed: 05_Funk3-98-A_comp_hex.wav → 05_Funk3-98-A_comp.wav\n",
            "Renamed: 05_SS1-68-E_solo_hex.wav → 05_SS1-68-E_solo.wav\n",
            "Renamed: 04_BN1-147-Gb_solo_hex.wav → 04_BN1-147-Gb_solo.wav\n",
            "Renamed: 05_BN3-154-E_solo_hex.wav → 05_BN3-154-E_solo.wav\n",
            "Renamed: 02_Jazz3-137-Eb_comp_hex.wav → 02_Jazz3-137-Eb_comp.wav\n",
            "Renamed: 04_Funk1-97-C_comp_hex.wav → 04_Funk1-97-C_comp.wav\n",
            "Renamed: 00_SS2-88-F_comp_hex.wav → 00_SS2-88-F_comp.wav\n",
            "Renamed: 01_Funk2-119-G_solo_hex.wav → 01_Funk2-119-G_solo.wav\n",
            "Renamed: 04_Rock2-142-D_solo_hex.wav → 04_Rock2-142-D_solo.wav\n",
            "Renamed: 00_Funk1-114-Ab_solo_hex.wav → 00_Funk1-114-Ab_solo.wav\n",
            "Renamed: 05_BN2-166-Ab_solo_hex.wav → 05_BN2-166-Ab_solo.wav\n",
            "Renamed: 02_SS3-84-Bb_solo_hex.wav → 02_SS3-84-Bb_solo.wav\n",
            "Renamed: 02_Jazz3-150-C_comp_hex.wav → 02_Jazz3-150-C_comp.wav\n",
            "Renamed: 01_Rock2-85-F_solo_hex.wav → 01_Rock2-85-F_solo.wav\n",
            "Renamed: 01_Rock3-148-C_solo_hex.wav → 01_Rock3-148-C_solo.wav\n",
            "Renamed: 01_Funk1-97-C_solo_hex.wav → 01_Funk1-97-C_solo.wav\n",
            "Renamed: 00_Funk3-98-A_solo_hex.wav → 00_Funk3-98-A_solo.wav\n",
            "Renamed: 00_Jazz3-137-Eb_comp_hex.wav → 00_Jazz3-137-Eb_comp.wav\n",
            "Renamed: 03_Jazz2-187-F#_solo_hex.wav → 03_Jazz2-187-F#_solo.wav\n",
            "Renamed: 05_Rock3-148-C_comp_hex.wav → 05_Rock3-148-C_comp.wav\n",
            "Renamed: 03_BN1-147-Gb_solo_hex.wav → 03_BN1-147-Gb_solo.wav\n",
            "Renamed: 03_SS2-88-F_comp_hex.wav → 03_SS2-88-F_comp.wav\n",
            "Renamed: 01_Jazz1-200-B_solo_hex.wav → 01_Jazz1-200-B_solo.wav\n",
            "Renamed: 01_SS2-107-Ab_comp_hex.wav → 01_SS2-107-Ab_comp.wav\n",
            "Renamed: 02_Rock2-142-D_solo_hex.wav → 02_Rock2-142-D_solo.wav\n",
            "Renamed: 05_Funk1-114-Ab_solo_hex.wav → 05_Funk1-114-Ab_solo.wav\n",
            "Renamed: 03_BN1-129-Eb_solo_hex.wav → 03_BN1-129-Eb_solo.wav\n",
            "Renamed: 02_Funk2-119-G_comp_hex.wav → 02_Funk2-119-G_comp.wav\n",
            "Renamed: 00_Jazz1-130-D_comp_hex.wav → 00_Jazz1-130-D_comp.wav\n",
            "Renamed: 03_Jazz2-110-Bb_solo_hex.wav → 03_Jazz2-110-Bb_solo.wav\n",
            "Renamed: 01_Rock1-90-C#_solo_hex.wav → 01_Rock1-90-C#_solo.wav\n",
            "Renamed: 02_BN1-129-Eb_solo_hex.wav → 02_BN1-129-Eb_solo.wav\n",
            "Renamed: 04_Funk1-114-Ab_comp_hex.wav → 04_Funk1-114-Ab_comp.wav\n",
            "Renamed: 00_BN2-131-B_solo_hex.wav → 00_BN2-131-B_solo.wav\n",
            "Renamed: 03_SS2-107-Ab_solo_hex.wav → 03_SS2-107-Ab_solo.wav\n",
            "Renamed: 04_Rock1-90-C#_comp_hex.wav → 04_Rock1-90-C#_comp.wav\n",
            "Renamed: 01_BN2-166-Ab_solo_hex.wav → 01_BN2-166-Ab_solo.wav\n",
            "Renamed: 01_Funk2-108-Eb_comp_hex.wav → 01_Funk2-108-Eb_comp.wav\n",
            "Renamed: 05_Funk2-119-G_comp_hex.wav → 05_Funk2-119-G_comp.wav\n",
            "Renamed: 03_Jazz1-130-D_solo_hex.wav → 03_Jazz1-130-D_solo.wav\n",
            "Renamed: 05_Jazz1-200-B_solo_hex.wav → 05_Jazz1-200-B_solo.wav\n",
            "Renamed: 02_SS3-84-Bb_comp_hex.wav → 02_SS3-84-Bb_comp.wav\n",
            "Renamed: 05_SS1-100-C#_solo_hex.wav → 05_SS1-100-C#_solo.wav\n",
            "Renamed: 03_Rock3-117-Bb_comp_hex.wav → 03_Rock3-117-Bb_comp.wav\n",
            "Renamed: 04_Funk3-112-C#_solo_hex.wav → 04_Funk3-112-C#_solo.wav\n",
            "Renamed: 05_Jazz1-130-D_solo_hex.wav → 05_Jazz1-130-D_solo.wav\n",
            "Renamed: 04_Funk3-98-A_comp_hex.wav → 04_Funk3-98-A_comp.wav\n",
            "Renamed: 04_BN3-119-G_comp_hex.wav → 04_BN3-119-G_comp.wav\n",
            "Renamed: 01_SS2-107-Ab_solo_hex.wav → 01_SS2-107-Ab_solo.wav\n",
            "Renamed: 05_Rock3-117-Bb_comp_hex.wav → 05_Rock3-117-Bb_comp.wav\n",
            "Renamed: 02_Jazz1-130-D_solo_hex.wav → 02_Jazz1-130-D_solo.wav\n",
            "Renamed: 03_BN1-147-Gb_comp_hex.wav → 03_BN1-147-Gb_comp.wav\n",
            "Renamed: 04_BN2-166-Ab_solo_hex.wav → 04_BN2-166-Ab_solo.wav\n",
            "Renamed: 01_Funk2-119-G_comp_hex.wav → 01_Funk2-119-G_comp.wav\n",
            "Renamed: 04_Rock3-148-C_comp_hex.wav → 04_Rock3-148-C_comp.wav\n",
            "Renamed: 00_SS1-68-E_solo_hex.wav → 00_SS1-68-E_solo.wav\n",
            "Renamed: 02_Jazz2-110-Bb_solo_hex.wav → 02_Jazz2-110-Bb_solo.wav\n",
            "Renamed: 04_Rock3-117-Bb_comp_hex.wav → 04_Rock3-117-Bb_comp.wav\n",
            "Renamed: 05_SS3-98-C_comp_hex.wav → 05_SS3-98-C_comp.wav\n",
            "Renamed: 05_BN3-119-G_solo_hex.wav → 05_BN3-119-G_solo.wav\n",
            "Renamed: 00_Rock3-117-Bb_comp_hex.wav → 00_Rock3-117-Bb_comp.wav\n",
            "Renamed: 00_Funk3-112-C#_comp_hex.wav → 00_Funk3-112-C#_comp.wav\n",
            "Renamed: 03_SS1-100-C#_comp_hex.wav → 03_SS1-100-C#_comp.wav\n",
            "Renamed: 02_Jazz2-187-F#_solo_hex.wav → 02_Jazz2-187-F#_solo.wav\n",
            "Renamed: 02_Jazz1-200-B_comp_hex.wav → 02_Jazz1-200-B_comp.wav\n",
            "Renamed: 00_Rock2-85-F_solo_hex.wav → 00_Rock2-85-F_solo.wav\n",
            "Renamed: 01_Jazz3-150-C_solo_hex.wav → 01_Jazz3-150-C_solo.wav\n",
            "Renamed: 04_Funk2-108-Eb_solo_hex.wav → 04_Funk2-108-Eb_solo.wav\n",
            "Renamed: 00_BN1-147-Gb_solo_hex.wav → 00_BN1-147-Gb_solo.wav\n",
            "Renamed: 02_BN1-147-Gb_solo_hex.wav → 02_BN1-147-Gb_solo.wav\n",
            "Renamed: 01_BN3-154-E_comp_hex.wav → 01_BN3-154-E_comp.wav\n",
            "Renamed: 04_Jazz1-200-B_comp_hex.wav → 04_Jazz1-200-B_comp.wav\n",
            "Renamed: 05_Funk1-97-C_solo_hex.wav → 05_Funk1-97-C_solo.wav\n",
            "Renamed: 00_Jazz3-150-C_solo_hex.wav → 00_Jazz3-150-C_solo.wav\n",
            "Rename complete.\n"
          ]
        }
      ]
    },
    {
      "cell_type": "code",
      "source": [
        "import os\n",
        "\n",
        "folder_path = '/content/spectrogram_final2'\n",
        "count = 0\n",
        "\n",
        "for root, dirs, files in os.walk(folder_path):\n",
        "    count += len(files)\n",
        "\n",
        "print(f\"จำนวนไฟล์ทั้งหมด: {count}\")"
      ],
      "metadata": {
        "colab": {
          "base_uri": "https://localhost:8080/"
        },
        "id": "UZb198sDqY5c",
        "outputId": "5ffca119-c8a4-4c96-b56e-28d37a214c61"
      },
      "execution_count": null,
      "outputs": [
        {
          "output_type": "stream",
          "name": "stdout",
          "text": [
            "จำนวนไฟล์ทั้งหมด: 4034\n"
          ]
        }
      ]
    },
    {
      "cell_type": "markdown",
      "source": [
        "spectrogram"
      ],
      "metadata": {
        "id": "i8voiH-3Ia6H"
      }
    },
    {
      "cell_type": "code",
      "source": [
        "def create_complete_chord_spectrogram_dataset(audio_dir, annotation_dir, output_dir, sr=22050, min_duration=0.8):\n",
        "    os.makedirs(output_dir, exist_ok=True)\n",
        "    audio_files = [f for f in os.listdir(audio_dir) if f.endswith('.wav')]\n",
        "\n",
        "    all_chords_set = set()\n",
        "\n",
        "    for audio_file in audio_files:\n",
        "        base_name = os.path.splitext(audio_file)[0]\n",
        "        wav_path = os.path.join(audio_dir, audio_file)\n",
        "\n",
        "        annotation_candidates = [f for f in os.listdir(annotation_dir) if f.endswith('.csv')]\n",
        "        matched_file = next((f for f in annotation_candidates if base_name in f), None)\n",
        "\n",
        "        if not matched_file:\n",
        "            print(f\"Annotation not found for {audio_file}, skipping.\")\n",
        "            continue\n",
        "\n",
        "        annotation_path = os.path.join(annotation_dir, matched_file)\n",
        "\n",
        "        try:\n",
        "            y, _ = librosa.load(wav_path, sr=sr)\n",
        "            df = pd.read_csv(annotation_path)\n",
        "        except Exception as e:\n",
        "            print(f\"Error loading {audio_file}: {e}\")\n",
        "            continue\n",
        "\n",
        "        for i, row in df.iterrows():\n",
        "            start = row['start_time']\n",
        "            end = row['end_time']\n",
        "            chord = row['clean_chord']\n",
        "\n",
        "            if chord == 'Unknown' or not isinstance(chord, str) or chord.strip() == \"\":\n",
        "                continue\n",
        "\n",
        "            all_chords_set.add(chord)\n",
        "\n",
        "            start_sample = int(start * sr)\n",
        "            end_sample = int(end * sr)\n",
        "            segment = y[start_sample:end_sample]\n",
        "\n",
        "            if len(segment) < int(min_duration * sr):\n",
        "                continue\n",
        "\n",
        "            try:\n",
        "                S = librosa.feature.melspectrogram(y=segment, sr=sr, n_mels=128)\n",
        "                S_dB = librosa.power_to_db(S, ref=np.max)\n",
        "\n",
        "                chord_folder = os.path.join(output_dir, chord)\n",
        "                os.makedirs(chord_folder, exist_ok=True)\n",
        "\n",
        "                fig = plt.figure(figsize=(5, 4))\n",
        "                librosa.display.specshow(S_dB, sr=sr, x_axis='time', y_axis='mel')\n",
        "                plt.axis('off')\n",
        "\n",
        "                save_path = os.path.join(chord_folder, f\"{base_name}_{i}.png\")\n",
        "                plt.savefig(save_path, bbox_inches='tight', pad_inches=0, dpi=150)\n",
        "                plt.close(fig)\n",
        "            except Exception as e:\n",
        "                print(f\"Failed to process segment {i} in {audio_file}: {e}\")\n",
        "\n",
        "    print(f\"\\nTotal unique chords found: {len(all_chords_set)}\")\n",
        "    print(sorted(all_chords_set))\n",
        "\n",
        "    print(\"\\nSpectrogram dataset created.\")"
      ],
      "metadata": {
        "id": "0m4AycS3IhWi"
      },
      "execution_count": null,
      "outputs": []
    },
    {
      "cell_type": "code",
      "source": [
        "create_complete_chord_spectrogram_dataset(\n",
        "    audio_dir= '/content/audiotrack',\n",
        "    annotation_dir='/content/annotation',\n",
        "    output_dir='/content/spectrogram_final2'\n",
        ")"
      ],
      "metadata": {
        "id": "KQg1fx0wIpeE",
        "colab": {
          "base_uri": "https://localhost:8080/"
        },
        "outputId": "53e6cece-8e82-43a4-f5ea-a9afad6c0119"
      },
      "execution_count": null,
      "outputs": [
        {
          "output_type": "stream",
          "name": "stdout",
          "text": [
            "\n",
            "Total unique chords found: 26\n",
            "['A', 'Am', 'B', 'B9', 'Bb', 'Bmaj7', 'C', 'C##', 'Cm', 'Cm7', 'Cm9', 'D', 'D7', 'Dm', 'Dm7', 'Eb', 'Ebmaj7', 'F', 'F##', 'F##m', 'G', 'G7', 'Gag', 'Gm', 'Gm7', 'Gm9']\n",
            "\n",
            "Spectrogram dataset created.\n"
          ]
        }
      ]
    },
    {
      "cell_type": "markdown",
      "source": [
        "fix chords"
      ],
      "metadata": {
        "id": "q6xcJbD5I5ND"
      }
    },
    {
      "cell_type": "code",
      "source": [
        "import shutil\n",
        "import os\n",
        "source_folder = '/content/spectrogram_final2/C##'\n",
        "destination_folder = '/content/spectrogram_final2/D'\n",
        "\n",
        "for filename in os.listdir(source_folder):\n",
        "        source_path = os.path.join(source_folder, filename)\n",
        "        destination_path = os.path.join(destination_folder, filename)\n",
        "        if os.path.isfile(source_path):\n",
        "            shutil.move(source_path, destination_path)\n",
        "print(\"complete\")"
      ],
      "metadata": {
        "id": "e0Hn9lpzI8XO",
        "colab": {
          "base_uri": "https://localhost:8080/"
        },
        "outputId": "78007897-4192-4c9f-83cb-cf4758bbebeb"
      },
      "execution_count": null,
      "outputs": [
        {
          "output_type": "stream",
          "name": "stdout",
          "text": [
            "complete\n"
          ]
        }
      ]
    },
    {
      "cell_type": "code",
      "source": [
        "import shutil\n",
        "from google.colab import files\n",
        "\n",
        "shutil.make_archive(\"spectrogram_final2\", 'zip', \"spectrogram_final2\")"
      ],
      "metadata": {
        "id": "JTGE-nREI_a_",
        "colab": {
          "base_uri": "https://localhost:8080/",
          "height": 36
        },
        "outputId": "8022b002-6d3a-4a5b-b957-2db3c2c36f3e"
      },
      "execution_count": null,
      "outputs": [
        {
          "output_type": "execute_result",
          "data": {
            "text/plain": [
              "'/content/spectrogram_final2.zip'"
            ],
            "application/vnd.google.colaboratory.intrinsic+json": {
              "type": "string"
            }
          },
          "metadata": {},
          "execution_count": 33
        }
      ]
    },
    {
      "cell_type": "code",
      "source": [
        "from google.colab import files\n",
        "files.download('spectrogram_final2.zip')"
      ],
      "metadata": {
        "id": "j3253eoMJAvT",
        "colab": {
          "base_uri": "https://localhost:8080/",
          "height": 17
        },
        "outputId": "b958a126-016d-44de-a4b3-de41a67f2394"
      },
      "execution_count": null,
      "outputs": [
        {
          "output_type": "display_data",
          "data": {
            "text/plain": [
              "<IPython.core.display.Javascript object>"
            ],
            "application/javascript": [
              "\n",
              "    async function download(id, filename, size) {\n",
              "      if (!google.colab.kernel.accessAllowed) {\n",
              "        return;\n",
              "      }\n",
              "      const div = document.createElement('div');\n",
              "      const label = document.createElement('label');\n",
              "      label.textContent = `Downloading \"${filename}\": `;\n",
              "      div.appendChild(label);\n",
              "      const progress = document.createElement('progress');\n",
              "      progress.max = size;\n",
              "      div.appendChild(progress);\n",
              "      document.body.appendChild(div);\n",
              "\n",
              "      const buffers = [];\n",
              "      let downloaded = 0;\n",
              "\n",
              "      const channel = await google.colab.kernel.comms.open(id);\n",
              "      // Send a message to notify the kernel that we're ready.\n",
              "      channel.send({})\n",
              "\n",
              "      for await (const message of channel.messages) {\n",
              "        // Send a message to notify the kernel that we're ready.\n",
              "        channel.send({})\n",
              "        if (message.buffers) {\n",
              "          for (const buffer of message.buffers) {\n",
              "            buffers.push(buffer);\n",
              "            downloaded += buffer.byteLength;\n",
              "            progress.value = downloaded;\n",
              "          }\n",
              "        }\n",
              "      }\n",
              "      const blob = new Blob(buffers, {type: 'application/binary'});\n",
              "      const a = document.createElement('a');\n",
              "      a.href = window.URL.createObjectURL(blob);\n",
              "      a.download = filename;\n",
              "      div.appendChild(a);\n",
              "      a.click();\n",
              "      div.remove();\n",
              "    }\n",
              "  "
            ]
          },
          "metadata": {}
        },
        {
          "output_type": "display_data",
          "data": {
            "text/plain": [
              "<IPython.core.display.Javascript object>"
            ],
            "application/javascript": [
              "download(\"download_1937dddf-3409-40f3-9731-a0ee6077e731\", \"spectrogram_final2.zip\", 140186269)"
            ]
          },
          "metadata": {}
        }
      ]
    }
  ]
}