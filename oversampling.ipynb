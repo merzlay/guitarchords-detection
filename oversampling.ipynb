import os
import random
from pathlib import Path
from PIL import Image, ImageEnhance, ImageOps

base_path = Path("/content/spectrogram")

def augment_image(img):
    if random.random() > 0.5:
        img = ImageOps.mirror(img)  
    if random.random() > 0.5:
        img = ImageOps.flip(img)  
    if random.random() > 0.5:
        img = img.rotate(random.uniform(-15, 15))
    if random.random() > 0.5:
        enhancer = ImageEnhance.Brightness(img)
        img = enhancer.enhance(random.uniform(0.7, 1.3))  
    return img

class_counts = {p.name: len(list(p.glob("*.png"))) for p in base_path.iterdir() if p.is_dir()}
max_count = max(class_counts.values())
print(f"Target images per class: {max_count}")

for class_name, count in class_counts.items():
    class_path = base_path / class_name
    image_paths = list(class_path.glob("*.png"))

    if count < max_count:
        needed = max_count - count
        print(f"Oversampling class '{class_name}': adding {needed} augmented images...")

        for i in range(needed):
            src_path = random.choice(image_paths)
            img = Image.open(src_path)
            aug_img = augment_image(img)
            dst_path = class_path / f"aug_{i}_{src_path.name}"
            aug_img.save(dst_path)

print("Oversampling + Data Augmentation")
