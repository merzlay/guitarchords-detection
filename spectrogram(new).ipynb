{
  "nbformat": 4,
  "nbformat_minor": 0,
  "metadata": {
    "colab": {
      "provenance": []
    },
    "kernelspec": {
      "name": "python3",
      "display_name": "Python 3"
    },
    "language_info": {
      "name": "python"
    }
  },
  "cells": [
    {
      "cell_type": "code",
      "source": [
        "!pip install tensorflow==2.12 numpy==1.24.3 --force-reinstall"
      ],
      "metadata": {
        "colab": {
          "base_uri": "https://localhost:8080/"
        },
        "id": "sWegJ59NbpiY",
        "outputId": "54f273a8-28cd-4e56-f393-f87426d49c7a"
      },
      "execution_count": null,
      "outputs": [
        {
          "output_type": "stream",
          "name": "stdout",
          "text": [
            "Collecting tensorflow==2.12\n",
            "  Downloading tensorflow-2.12.0-cp311-cp311-manylinux_2_17_x86_64.manylinux2014_x86_64.whl.metadata (3.4 kB)\n",
            "Collecting numpy==1.24.3\n",
            "  Downloading numpy-1.24.3-cp311-cp311-manylinux_2_17_x86_64.manylinux2014_x86_64.whl.metadata (5.6 kB)\n",
            "Collecting absl-py>=1.0.0 (from tensorflow==2.12)\n",
            "  Downloading absl_py-2.3.0-py3-none-any.whl.metadata (2.4 kB)\n",
            "Collecting astunparse>=1.6.0 (from tensorflow==2.12)\n",
            "  Downloading astunparse-1.6.3-py2.py3-none-any.whl.metadata (4.4 kB)\n",
            "Collecting flatbuffers>=2.0 (from tensorflow==2.12)\n",
            "  Downloading flatbuffers-25.2.10-py2.py3-none-any.whl.metadata (875 bytes)\n",
            "Collecting gast<=0.4.0,>=0.2.1 (from tensorflow==2.12)\n",
            "  Downloading gast-0.4.0-py3-none-any.whl.metadata (1.1 kB)\n",
            "Collecting google-pasta>=0.1.1 (from tensorflow==2.12)\n",
            "  Downloading google_pasta-0.2.0-py3-none-any.whl.metadata (814 bytes)\n",
            "Collecting grpcio<2.0,>=1.24.3 (from tensorflow==2.12)\n",
            "  Downloading grpcio-1.73.0-cp311-cp311-manylinux_2_17_x86_64.manylinux2014_x86_64.whl.metadata (3.8 kB)\n",
            "Collecting h5py>=2.9.0 (from tensorflow==2.12)\n",
            "  Downloading h5py-3.14.0-cp311-cp311-manylinux_2_17_x86_64.manylinux2014_x86_64.whl.metadata (2.7 kB)\n",
            "Collecting jax>=0.3.15 (from tensorflow==2.12)\n",
            "  Downloading jax-0.6.1-py3-none-any.whl.metadata (13 kB)\n",
            "Collecting keras<2.13,>=2.12.0 (from tensorflow==2.12)\n",
            "  Downloading keras-2.12.0-py2.py3-none-any.whl.metadata (1.4 kB)\n",
            "Collecting libclang>=13.0.0 (from tensorflow==2.12)\n",
            "  Downloading libclang-18.1.1-py2.py3-none-manylinux2010_x86_64.whl.metadata (5.2 kB)\n",
            "INFO: pip is looking at multiple versions of tensorflow to determine which version is compatible with other requirements. This could take a while.\n",
            "\u001b[31mERROR: Cannot install numpy==1.24.3 and tensorflow==2.12.0 because these package versions have conflicting dependencies.\u001b[0m\u001b[31m\n",
            "\u001b[0m\n",
            "The conflict is caused by:\n",
            "    The user requested numpy==1.24.3\n",
            "    tensorflow 2.12.0 depends on numpy<1.24 and >=1.22\n",
            "\n",
            "To fix this you could try to:\n",
            "1. loosen the range of package versions you've specified\n",
            "2. remove package versions to allow pip to attempt to solve the dependency conflict\n",
            "\n",
            "\u001b[31mERROR: ResolutionImpossible: for help visit https://pip.pypa.io/en/latest/topics/dependency-resolution/#dealing-with-dependency-conflicts\u001b[0m\u001b[31m\n",
            "\u001b[0m"
          ]
        }
      ]
    },
    {
      "cell_type": "code",
      "source": [
        "from google.colab import drive\n",
        "drive.mount('/content/drive')"
      ],
      "metadata": {
        "colab": {
          "base_uri": "https://localhost:8080/"
        },
        "id": "Pq24AHq1bgHM",
        "outputId": "9a36bd9b-348d-44f5-d669-18f2c8a8cca9"
      },
      "execution_count": null,
      "outputs": [
        {
          "output_type": "stream",
          "name": "stdout",
          "text": [
            "Mounted at /content/drive\n"
          ]
        }
      ]
    },
    {
      "cell_type": "code",
      "execution_count": null,
      "metadata": {
        "id": "dxZEEQ9CaL5R"
      },
      "outputs": [],
      "source": [
        "import zipfile\n",
        "import pandas as pd\n",
        "import os\n",
        "from google.colab import files\n",
        "\n",
        "uploaded = '/content/drive/MyDrive/last/spectrogram.zip'\n",
        "extract_dir = \"/content/spectrogram\"\n",
        "with zipfile.ZipFile(uploaded, 'r') as zip_ref:\n",
        "    zip_ref.extractall(extract_dir)"
      ]
    },
    {
      "cell_type": "code",
      "source": [
        "import os\n",
        "\n",
        "folder_path = '/content/spectrogram'\n",
        "count = 0\n",
        "\n",
        "for root, dirs, files in os.walk(folder_path):\n",
        "    count += len(files)\n",
        "\n",
        "print(f\"จำนวนไฟล์ทั้งหมด: {count}\")"
      ],
      "metadata": {
        "id": "OEwQj4Z1b-Fj"
      },
      "execution_count": null,
      "outputs": []
    },
    {
      "cell_type": "code",
      "source": [
        "from pathlib import Path\n",
        "from collections import Counter\n",
        "import matplotlib.pyplot as plt\n",
        "\n",
        "path = Path(\"/content/dataset/test\")\n",
        "counts = {p.name: len(list(p.glob(\"*.png\"))) for p in path.iterdir() if p.is_dir()}\n",
        "\n",
        "for k, v in counts.items():\n",
        "    print(f\"Class '{k}': {v} images\")\n",
        "\n",
        "plt.bar(counts.keys(), counts.values())\n",
        "plt.title(\"Number of Images per Class\")\n",
        "plt.xlabel(\"Class\")\n",
        "plt.ylabel(\"Count\")\n",
        "plt.show()"
      ],
      "metadata": {
        "colab": {
          "base_uri": "https://localhost:8080/",
          "height": 889
        },
        "collapsed": true,
        "id": "TNmrYjRgcKuZ",
        "outputId": "1b6a45c4-ddd6-4b6a-a14c-3e589f0e2fea"
      },
      "execution_count": null,
      "outputs": [
        {
          "output_type": "stream",
          "name": "stdout",
          "text": [
            "Class 'Am': 7 images\n",
            "Class 'F': 20 images\n",
            "Class 'B': 28 images\n",
            "Class 'Bb': 24 images\n",
            "Class 'Gag': 2 images\n",
            "Class 'D': 38 images\n",
            "Class '.ipynb_checkpoints': 0 images\n",
            "Class 'Cm9': 3 images\n",
            "Class 'Gm9': 2 images\n",
            "Class 'C': 50 images\n",
            "Class 'Eb': 43 images\n",
            "Class 'G': 142 images\n",
            "Class 'B9': 2 images\n",
            "Class 'Bmaj7': 2 images\n",
            "Class 'Dm': 6 images\n",
            "Class 'Dm7': 1 images\n",
            "Class 'Ebmaj7': 6 images\n",
            "Class 'Cm7': 2 images\n",
            "Class 'Cm': 10 images\n",
            "Class 'D7': 1 images\n",
            "Class 'Gm': 21 images\n",
            "Class 'G7': 3 images\n",
            "Class 'A': 6 images\n",
            "Class 'Gm7': 2 images\n"
          ]
        },
        {
          "output_type": "display_data",
          "data": {
            "text/plain": [
              "<Figure size 640x480 with 1 Axes>"
            ],
            "image/png": "[encoded data removed]"
          },
          "metadata": {}
        }
      ]
    },
    {
      "cell_type": "code",
      "source": [
        "import os\n",
        "import random\n",
        "import shutil\n",
        "from pathlib import Path\n",
        "\n",
        "def split_dataset(\n",
        "    source_dir='all_spectrograms',\n",
        "    target_dir='dataset',\n",
        "    train_ratio=0.7,\n",
        "    valid_ratio=0.2,\n",
        "    test_ratio=0.1,\n",
        "    seed=42\n",
        "):\n",
        "    random.seed(seed)\n",
        "    source_dir = Path(source_dir)\n",
        "    target_dir = Path(target_dir)\n",
        "\n",
        "    for split in ['train', 'valid', 'test']:\n",
        "        for class_dir in (source_dir.iterdir()):\n",
        "            (target_dir / split / class_dir.name).mkdir(parents=True, exist_ok=True)\n",
        "\n",
        "    for class_dir in source_dir.iterdir():\n",
        "        if not class_dir.is_dir():\n",
        "            continue\n",
        "        images = list(class_dir.glob('*.png'))\n",
        "        random.shuffle(images)\n",
        "\n",
        "        total = len(images)\n",
        "        train_cutoff = int(train_ratio * total)\n",
        "        valid_cutoff = train_cutoff + int(valid_ratio * total)\n",
        "\n",
        "        for i, img_path in enumerate(images):\n",
        "            if i < train_cutoff:\n",
        "                split = 'train'\n",
        "            elif i < valid_cutoff:\n",
        "                split = 'valid'\n",
        "            else:\n",
        "                split = 'test'\n",
        "\n",
        "            dst = target_dir / split / class_dir.name / img_path.name\n",
        "            shutil.copy(img_path, dst)\n",
        "\n",
        "    print(f\"Done!\")"
      ],
      "metadata": {
        "id": "vJAslh7ZcUjg"
      },
      "execution_count": null,
      "outputs": []
    },
    {
      "cell_type": "code",
      "source": [
        "split_dataset(\n",
        "    source_dir='/content/spectrogram',\n",
        "    target_dir='dataset',\n",
        "    train_ratio=0.7,\n",
        "    valid_ratio=0.2,\n",
        "    test_ratio=0.1\n",
        ")"
      ],
      "metadata": {
        "colab": {
          "base_uri": "https://localhost:8080/"
        },
        "id": "2yRzq1kgcuL7",
        "outputId": "9398c093-0205-41a8-e5c2-ea67d0adac27"
      },
      "execution_count": null,
      "outputs": [
        {
          "output_type": "stream",
          "name": "stdout",
          "text": [
            "Done!\n"
          ]
        }
      ]
    },
    {
      "cell_type": "code",
      "source": [
        "!pip install -q albumentations"
      ],
      "metadata": {
        "id": "V-VZVVUnwYHE"
      },
      "execution_count": null,
      "outputs": []
    },
    {
      "cell_type": "code",
      "source": [
        "import os\n",
        "import random\n",
        "from pathlib import Path\n",
        "from PIL import Image\n",
        "import numpy as np\n",
        "from tqdm import tqdm\n",
        "import albumentations as A\n",
        "\n",
        "base_path = Path(\"/content/dataset/train\")\n",
        "\n",
        "transform = A.Compose([\n",
        "    A.RandomBrightnessContrast(p=0.5),\n",
        "    A.ShiftScaleRotate(shift_limit=0.05, scale_limit=0.1, rotate_limit=10, p=0.5),\n",
        "])\n",
        "\n",
        "class_counts = {p.name: len(list(p.glob(\"*.png\"))) for p in base_path.iterdir() if p.is_dir()}\n",
        "max_count = max(class_counts.values())\n",
        "print(f\"Max images per class: {max_count}\")\n",
        "\n",
        "for class_name, count in class_counts.items():\n",
        "    class_path = base_path / class_name\n",
        "    image_paths = list(class_path.glob(\"*.png\"))\n",
        "    needed = max_count - count\n",
        "\n",
        "    if needed > 0:\n",
        "        print(f\"Oversampling '{class_name}' by {needed} images...\")\n",
        "        for i in tqdm(range(needed), desc=f\"Augmenting {class_name}\"):\n",
        "            src_path = random.choice(image_paths)\n",
        "            image = np.array(Image.open(src_path).convert(\"RGB\"))\n",
        "            augmented = transform(image=image)[\"image\"]\n",
        "            aug_img = Image.fromarray(augmented)\n",
        "            save_path = class_path / f\"aug_{i}_{src_path.name}\"\n",
        "            aug_img.save(save_path)\n",
        "\n",
        "print(\"Completed.\")"
      ],
      "metadata": {
        "colab": {
          "base_uri": "https://localhost:8080/"
        },
        "id": "tUPn4p46d2TV",
        "outputId": "c04e9ef2-a76c-4c0a-b3b1-5369df229a70",
        "collapsed": true
      },
      "execution_count": null,
      "outputs": [
        {
          "output_type": "stream",
          "name": "stderr",
          "text": [
            "/usr/local/lib/python3.11/dist-packages/albumentations/core/validation.py:114: UserWarning: ShiftScaleRotate is a special case of Affine transform. Please use Affine transform instead.\n",
            "  original_init(self, **validated_kwargs)\n"
          ]
        },
        {
          "output_type": "stream",
          "name": "stdout",
          "text": [
            "Max images per class: 985\n",
            "Oversampling 'Am' by 946 images...\n"
          ]
        },
        {
          "output_type": "stream",
          "name": "stderr",
          "text": [
            "Augmenting Am: 100%|██████████| 946/946 [01:06<00:00, 14.13it/s]\n"
          ]
        },
        {
          "output_type": "stream",
          "name": "stdout",
          "text": [
            "Oversampling 'F' by 850 images...\n"
          ]
        },
        {
          "output_type": "stream",
          "name": "stderr",
          "text": [
            "Augmenting F: 100%|██████████| 850/850 [01:01<00:00, 13.89it/s]\n"
          ]
        },
        {
          "output_type": "stream",
          "name": "stdout",
          "text": [
            "Oversampling 'B' by 796 images...\n"
          ]
        },
        {
          "output_type": "stream",
          "name": "stderr",
          "text": [
            "Augmenting B: 100%|██████████| 796/796 [00:54<00:00, 14.65it/s]\n"
          ]
        },
        {
          "output_type": "stream",
          "name": "stdout",
          "text": [
            "Oversampling 'Bb' by 817 images...\n"
          ]
        },
        {
          "output_type": "stream",
          "name": "stderr",
          "text": [
            "Augmenting Bb: 100%|██████████| 817/817 [01:03<00:00, 12.85it/s]\n"
          ]
        },
        {
          "output_type": "stream",
          "name": "stdout",
          "text": [
            "Oversampling 'Gag' by 971 images...\n"
          ]
        },
        {
          "output_type": "stream",
          "name": "stderr",
          "text": [
            "Augmenting Gag: 100%|██████████| 971/971 [01:07<00:00, 14.42it/s]\n"
          ]
        },
        {
          "output_type": "stream",
          "name": "stdout",
          "text": [
            "Oversampling 'D' by 729 images...\n"
          ]
        },
        {
          "output_type": "stream",
          "name": "stderr",
          "text": [
            "Augmenting D: 100%|██████████| 729/729 [00:51<00:00, 14.19it/s]\n"
          ]
        },
        {
          "output_type": "stream",
          "name": "stdout",
          "text": [
            "Oversampling 'Cm9' by 973 images...\n"
          ]
        },
        {
          "output_type": "stream",
          "name": "stderr",
          "text": [
            "Augmenting Cm9: 100%|██████████| 973/973 [01:07<00:00, 14.37it/s]\n"
          ]
        },
        {
          "output_type": "stream",
          "name": "stdout",
          "text": [
            "Oversampling 'Gm9' by 980 images...\n"
          ]
        },
        {
          "output_type": "stream",
          "name": "stderr",
          "text": [
            "Augmenting Gm9: 100%|██████████| 980/980 [01:08<00:00, 14.28it/s]\n"
          ]
        },
        {
          "output_type": "stream",
          "name": "stdout",
          "text": [
            "Oversampling 'C' by 638 images...\n"
          ]
        },
        {
          "output_type": "stream",
          "name": "stderr",
          "text": [
            "Augmenting C: 100%|██████████| 638/638 [00:44<00:00, 14.41it/s]\n"
          ]
        },
        {
          "output_type": "stream",
          "name": "stdout",
          "text": [
            "Oversampling 'Eb' by 694 images...\n"
          ]
        },
        {
          "output_type": "stream",
          "name": "stderr",
          "text": [
            "Augmenting Eb: 100%|██████████| 694/694 [00:50<00:00, 13.78it/s]\n"
          ]
        },
        {
          "output_type": "stream",
          "name": "stdout",
          "text": [
            "Oversampling 'B9' by 979 images...\n"
          ]
        },
        {
          "output_type": "stream",
          "name": "stderr",
          "text": [
            "Augmenting B9: 100%|██████████| 979/979 [01:09<00:00, 14.13it/s]\n"
          ]
        },
        {
          "output_type": "stream",
          "name": "stdout",
          "text": [
            "Oversampling 'Bmaj7' by 979 images...\n"
          ]
        },
        {
          "output_type": "stream",
          "name": "stderr",
          "text": [
            "Augmenting Bmaj7: 100%|██████████| 979/979 [01:12<00:00, 13.50it/s]\n"
          ]
        },
        {
          "output_type": "stream",
          "name": "stdout",
          "text": [
            "Oversampling 'Dm' by 950 images...\n"
          ]
        },
        {
          "output_type": "stream",
          "name": "stderr",
          "text": [
            "Augmenting Dm: 100%|██████████| 950/950 [01:05<00:00, 14.56it/s]\n"
          ]
        },
        {
          "output_type": "stream",
          "name": "stdout",
          "text": [
            "Oversampling 'Dm7' by 978 images...\n"
          ]
        },
        {
          "output_type": "stream",
          "name": "stderr",
          "text": [
            "Augmenting Dm7: 100%|██████████| 978/978 [01:14<00:00, 13.09it/s]\n"
          ]
        },
        {
          "output_type": "stream",
          "name": "stdout",
          "text": [
            "Oversampling 'Ebmaj7' by 947 images...\n"
          ]
        },
        {
          "output_type": "stream",
          "name": "stderr",
          "text": [
            "Augmenting Ebmaj7: 100%|██████████| 947/947 [01:08<00:00, 13.73it/s]\n"
          ]
        },
        {
          "output_type": "stream",
          "name": "stdout",
          "text": [
            "Oversampling 'Cm7' by 975 images...\n"
          ]
        },
        {
          "output_type": "stream",
          "name": "stderr",
          "text": [
            "Augmenting Cm7: 100%|██████████| 975/975 [01:04<00:00, 15.22it/s]\n"
          ]
        },
        {
          "output_type": "stream",
          "name": "stdout",
          "text": [
            "Oversampling 'Cm' by 923 images...\n"
          ]
        },
        {
          "output_type": "stream",
          "name": "stderr",
          "text": [
            "Augmenting Cm: 100%|██████████| 923/923 [01:04<00:00, 14.36it/s]\n"
          ]
        },
        {
          "output_type": "stream",
          "name": "stdout",
          "text": [
            "Oversampling 'D7' by 984 images...\n"
          ]
        },
        {
          "output_type": "stream",
          "name": "stderr",
          "text": [
            "Augmenting D7: 100%|██████████| 984/984 [01:01<00:00, 15.87it/s]\n"
          ]
        },
        {
          "output_type": "stream",
          "name": "stdout",
          "text": [
            "Oversampling 'Gm' by 842 images...\n"
          ]
        },
        {
          "output_type": "stream",
          "name": "stderr",
          "text": [
            "Augmenting Gm: 100%|██████████| 842/842 [00:57<00:00, 14.61it/s]\n"
          ]
        },
        {
          "output_type": "stream",
          "name": "stdout",
          "text": [
            "Oversampling 'G7' by 972 images...\n"
          ]
        },
        {
          "output_type": "stream",
          "name": "stderr",
          "text": [
            "Augmenting G7: 100%|██████████| 972/972 [01:10<00:00, 13.81it/s]\n"
          ]
        },
        {
          "output_type": "stream",
          "name": "stdout",
          "text": [
            "Oversampling 'A' by 947 images...\n"
          ]
        },
        {
          "output_type": "stream",
          "name": "stderr",
          "text": [
            "Augmenting A: 100%|██████████| 947/947 [01:07<00:00, 13.93it/s]\n"
          ]
        },
        {
          "output_type": "stream",
          "name": "stdout",
          "text": [
            "Oversampling 'Gm7' by 971 images...\n"
          ]
        },
        {
          "output_type": "stream",
          "name": "stderr",
          "text": [
            "Augmenting Gm7: 100%|██████████| 971/971 [01:10<00:00, 13.86it/s]"
          ]
        },
        {
          "output_type": "stream",
          "name": "stdout",
          "text": [
            "Oversampling + Augmentation Completed.\n"
          ]
        },
        {
          "output_type": "stream",
          "name": "stderr",
          "text": [
            "\n"
          ]
        }
      ]
    },
    {
      "cell_type": "code",
      "source": [
        "from pathlib import Path\n",
        "from collections import Counter\n",
        "import matplotlib.pyplot as plt\n",
        "\n",
        "path = Path(\"/content/dataset/train\")\n",
        "counts = {p.name: len(list(p.glob(\"*.png\"))) for p in path.iterdir() if p.is_dir()}\n",
        "\n",
        "for k, v in counts.items():\n",
        "    print(f\"Class '{k}': {v} images\")\n",
        "\n",
        "plt.bar(counts.keys(), counts.values())\n",
        "plt.title(\"Number of Images per Class\")\n",
        "plt.xlabel(\"Class\")\n",
        "plt.ylabel(\"Count\")\n",
        "plt.show()"
      ],
      "metadata": {
        "colab": {
          "base_uri": "https://localhost:8080/",
          "height": 871
        },
        "id": "uF3pGbOReD7C",
        "outputId": "b340554b-d303-4713-e65f-7f6cd22aa7d6",
        "collapsed": true
      },
      "execution_count": null,
      "outputs": [
        {
          "output_type": "stream",
          "name": "stdout",
          "text": [
            "Class 'Am': 985 images\n",
            "Class 'F': 985 images\n",
            "Class 'B': 985 images\n",
            "Class 'Bb': 985 images\n",
            "Class 'Gag': 985 images\n",
            "Class 'D': 985 images\n",
            "Class 'Cm9': 985 images\n",
            "Class 'Gm9': 985 images\n",
            "Class 'C': 985 images\n",
            "Class 'Eb': 985 images\n",
            "Class 'G': 985 images\n",
            "Class 'B9': 985 images\n",
            "Class 'Bmaj7': 985 images\n",
            "Class 'Dm': 985 images\n",
            "Class 'Dm7': 985 images\n",
            "Class 'Ebmaj7': 985 images\n",
            "Class 'Cm7': 985 images\n",
            "Class 'Cm': 985 images\n",
            "Class 'D7': 985 images\n",
            "Class 'Gm': 985 images\n",
            "Class 'G7': 985 images\n",
            "Class 'A': 985 images\n",
            "Class 'Gm7': 985 images\n"
          ]
        },
        {
          "output_type": "display_data",
          "data": {
            "text/plain": [
              "<Figure size 640x480 with 1 Axes>"
            ],
            "image/png": "[encoded data removed]"
          },
          "metadata": {}
        }
      ]
    },
    {
      "cell_type": "code",
      "source": [
        "import shutil\n",
        "from google.colab import files\n",
        "\n",
        "shutil.make_archive(\"dataset\", 'zip', \"dataset\")"
      ],
      "metadata": {
        "colab": {
          "base_uri": "https://localhost:8080/",
          "height": 35
        },
        "id": "BGZdD_8ig3AP",
        "outputId": "38959cfe-c36e-4178-99bb-03d995364b66"
      },
      "execution_count": null,
      "outputs": [
        {
          "output_type": "execute_result",
          "data": {
            "text/plain": [
              "'/content/dataset.zip'"
            ],
            "application/vnd.google.colaboratory.intrinsic+json": {
              "type": "string"
            }
          },
          "metadata": {},
          "execution_count": 67
        }
      ]
    }
  ]
}
