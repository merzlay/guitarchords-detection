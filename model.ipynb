{
  "nbformat": 4,
  "nbformat_minor": 0,
  "metadata": {
    "colab": {
      "provenance": []
    },
    "kernelspec": {
      "name": "python3",
      "display_name": "Python 3"
    },
    "language_info": {
      "name": "python"
    }
  },
  "cells": [
    {
      "cell_type": "code",
      "execution_count": null,
      "metadata": {
        "id": "im9MPtWwGRcU"
      },
      "outputs": [],
      "source": [
        "from pathlib import Path\n",
        "from collections import Counter\n",
        "import matplotlib.pyplot as plt\n",
        "\n",
        "path = Path(\"/content/spectrogram\")\n",
        "counts = {p.name: len(list(p.glob(\"*.png\"))) for p in path.iterdir() if p.is_dir()}\n",
        "\n",
        "for k, v in counts.items():\n",
        "    print(f\"Class '{k}': {v} images\")\n",
        "\n",
        "plt.bar(counts.keys(), counts.values())\n",
        "plt.title(\"Number of Images per Class\")\n",
        "plt.xlabel(\"Class\")\n",
        "plt.ylabel(\"Count\")\n",
        "plt.show()"
      ]
    },
    {
      "cell_type": "code",
      "source": [
        "import os\n",
        "import random\n",
        "import shutil\n",
        "from pathlib import Path\n",
        "\n",
        "def split_dataset(\n",
        "    source_dir='all_spectrograms',\n",
        "    target_dir='dataset_split',\n",
        "    train_ratio=0.7,\n",
        "    valid_ratio=0.2,\n",
        "    test_ratio=0.1,\n",
        "    seed=42\n",
        "):\n",
        "    random.seed(seed)\n",
        "    source_dir = Path(source_dir)\n",
        "    target_dir = Path(target_dir)\n",
        "\n",
        "    for split in ['train', 'valid', 'test']:\n",
        "        for class_dir in (source_dir.iterdir()):\n",
        "            (target_dir / split / class_dir.name).mkdir(parents=True, exist_ok=True)\n",
        "\n",
        "    for class_dir in source_dir.iterdir():\n",
        "        if not class_dir.is_dir():\n",
        "            continue\n",
        "        images = list(class_dir.glob('*.png'))\n",
        "        random.shuffle(images)\n",
        "\n",
        "        total = len(images)\n",
        "        train_cutoff = int(train_ratio * total)\n",
        "        valid_cutoff = train_cutoff + int(valid_ratio * total)\n",
        "\n",
        "        for i, img_path in enumerate(images):\n",
        "            if i < train_cutoff:\n",
        "                split = 'train'\n",
        "            elif i < valid_cutoff:\n",
        "                split = 'valid'\n",
        "            else:\n",
        "                split = 'test'\n",
        "\n",
        "            dst = target_dir / split / class_dir.name / img_path.name\n",
        "            shutil.copy(img_path, dst)\n",
        "\n",
        "   split_dataset(\n",
        "    source_dir='/content/spectrogram',\n",
        "    target_dir='dataset_split',\n",
        "    train_ratio=0.7,\n",
        "    valid_ratio=0.2,\n",
        "    test_ratio=0.1\n",
        ")"
      ],
      "metadata": {
        "id": "XuH2oXj_G-lV"
      },
      "execution_count": null,
      "outputs": []
    },
    {
      "cell_type": "code",
      "source": [
        "from fastai.vision.all import *\n",
        "import matplotlib.pyplot as plt\n",
        "path = Path('/content/dataset_split')\n",
        "\n",
        "dls = ImageDataLoaders.from_folder(\n",
        "    path,\n",
        "    train='train',\n",
        "    valid='valid',\n",
        "    item_tfms=Resize(224),\n",
        "    batch_tfms=aug_transforms(),\n",
        "    bs=32\n",
        ")\n",
        "\n",
        "learn = vision_learner(dls, resnet34, metrics=accuracy)\n",
        "learn.fine_tune(5)\n",
        "learn.export('chord_model.pkl')"
      ],
      "metadata": {
        "id": "4sh8G2TrHA1m"
      },
      "execution_count": null,
      "outputs": []
    }
  ]
}